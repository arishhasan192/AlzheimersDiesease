{
 "cells": [
  {
   "cell_type": "code",
   "execution_count": null,
   "metadata": {
    "colab": {
     "base_uri": "https://localhost:8080/"
    },
    "id": "qCIPT71p6W-y",
    "outputId": "002fa564-d553-4149-d8f8-ccbf63253a42"
   },
   "outputs": [
    {
     "name": "stdout",
     "output_type": "stream",
     "text": [
      "Cloning into 'data'...\n",
      "remote: Enumerating objects: 1311, done.\u001b[K\n",
      "remote: Counting objects: 100% (1311/1311), done.\u001b[K\n",
      "remote: Compressing objects: 100% (1308/1308), done.\u001b[K\n",
      "remote: Total 1311 (delta 1), reused 1311 (delta 1), pack-reused 0\u001b[K\n",
      "Receiving objects: 100% (1311/1311), 19.88 MiB | 30.08 MiB/s, done.\n",
      "Resolving deltas: 100% (1/1), done.\n"
     ]
    }
   ],
   "source": [
    "!git clone https://github.com/arishhasan192/data.git"
   ]
  },
  {
   "cell_type": "code",
   "execution_count": null,
   "metadata": {
    "colab": {
     "base_uri": "https://localhost:8080/"
    },
    "id": "z9qLTSPG6kEv",
    "outputId": "9661601d-b3ae-4710-d965-a2b01d692ef4"
   },
   "outputs": [
    {
     "name": "stdout",
     "output_type": "stream",
     "text": [
      "/content/data\n"
     ]
    }
   ],
   "source": [
    "cd data/"
   ]
  },
  {
   "cell_type": "code",
   "execution_count": null,
   "metadata": {
    "id": "MelWBaL06liv"
   },
   "outputs": [],
   "source": [
    "import cv2\n",
    "\n",
    "# store list\n",
    "images = []\n",
    "lables = []\n",
    "\n",
    "## AD Patient Brain Scan with PreProcessing of the Image ##\n",
    "for i in range(1, 172):\n",
    "    img = cv2.imread(f\"/content/data/Alzheimers-ADNI/train/Final AD JPEG/AD ({i}).jpg\")\n",
    "    gray = cv2.cvtColor(img,cv2.COLOR_BGR2GRAY)\n",
    "    gray = gray/255\n",
    "    gray = cv2.resize(gray,(200, 200))\n",
    "    images.append(gray)\n",
    "    lables.append(0)  # AD"
   ]
  },
  {
   "cell_type": "code",
   "execution_count": null,
   "metadata": {
    "id": "Uv0k6W7P6nFL"
   },
   "outputs": [],
   "source": [
    "## CN Patient Brain Scan with PreProcessing of the Image ##\n",
    "for i in range(1, 581):\n",
    "    img = cv2.imread(f\"/content/data/Alzheimers-ADNI/train/Final CN JPEG/CN ({i}).jpg\")\n",
    "    gray = cv2.cvtColor(img,cv2.COLOR_BGR2GRAY)\n",
    "    gray = gray/255\n",
    "    gray = cv2.resize(gray,(200, 200))\n",
    "    images.append(gray)\n",
    "    lables.append(1)  # CN\n",
    "     "
   ]
  },
  {
   "cell_type": "code",
   "execution_count": null,
   "metadata": {
    "id": "kMfrvMLq6wwd"
   },
   "outputs": [],
   "source": [
    "## EMCI Patient Brain Scan with PreProcessing of the Image ##\n",
    "for i in range(1, 241):\n",
    "    img = cv2.imread(f\"/content/data/Alzheimers-ADNI/train/Final EMCI JPEG/EMCI ({i}).jpg\")\n",
    "    gray = cv2.cvtColor(img,cv2.COLOR_BGR2GRAY)\n",
    "    gray = gray/255\n",
    "    gray = cv2.resize(gray,(200, 200))\n",
    "    images.append(gray)\n",
    "    lables.append(2)  # EMCI\n",
    "     \n"
   ]
  },
  {
   "cell_type": "code",
   "execution_count": null,
   "metadata": {
    "id": "fo832GvB6yNt"
   },
   "outputs": [],
   "source": [
    "## LMCI Patient Brain Scan with PreProcessing of the Image ##\n",
    "for i in range(1, 73):\n",
    "    img = cv2.imread(f\"/content/data/Alzheimers-ADNI/train/Final LMCI JPEG/LMCI ({i}).jpg\")\n",
    "    gray = cv2.cvtColor(img,cv2.COLOR_BGR2GRAY)\n",
    "    gray = gray/255\n",
    "    gray = cv2.resize(gray,(200, 200))\n",
    "    images.append(gray)\n",
    "    lables.append(3)  # LMCI\n",
    "     "
   ]
  },
  {
   "cell_type": "code",
   "execution_count": null,
   "metadata": {
    "id": "_rESMlOO6zXP"
   },
   "outputs": [],
   "source": [
    "## LMCI Patient Brain Scan with PreProcessing of the Image ##\n",
    "for i in range(1, 234):\n",
    "    img = cv2.imread(f\"/content/data/Alzheimers-ADNI/train/Final MCI JPEG/MCI ({i}).jpg\")\n",
    "    gray = cv2.cvtColor(img,cv2.COLOR_BGR2GRAY)\n",
    "    gray = gray/255\n",
    "    gray = cv2.resize(gray,(200, 200))\n",
    "    images.append(gray)\n",
    "    lables.append(4)  # MCI"
   ]
  },
  {
   "cell_type": "code",
   "execution_count": null,
   "metadata": {
    "colab": {
     "base_uri": "https://localhost:8080/"
    },
    "id": "wdPGcRfJ60b6",
    "outputId": "c923a113-efc0-4380-96e1-1a8ccb81170e"
   },
   "outputs": [
    {
     "name": "stdout",
     "output_type": "stream",
     "text": [
      "Shape of each image is = (200, 200)\n"
     ]
    }
   ],
   "source": [
    "# Shape of the Images\n",
    "\n",
    "print(f\"Shape of each image is = {images[1000].shape}\")"
   ]
  },
  {
   "cell_type": "code",
   "execution_count": null,
   "metadata": {
    "id": "BMu5egCI62F4"
   },
   "outputs": [],
   "source": [
    "\n",
    "# Convert The List into Array Format  #\n",
    "\n",
    "import numpy as np\n",
    "\n",
    "train_feature = np.array(images)\n",
    "lables = np.array(lables)\n",
    "     \n"
   ]
  },
  {
   "cell_type": "code",
   "execution_count": null,
   "metadata": {
    "colab": {
     "base_uri": "https://localhost:8080/"
    },
    "id": "fF6Sewb57SUI",
    "outputId": "872a3572-381e-4215-b7d6-a8386a6e7fd2"
   },
   "outputs": [
    {
     "name": "stdout",
     "output_type": "stream",
     "text": [
      "image dataset shape = (1296, 200, 200)\n",
      "lable dataset shape = (1296,)\n"
     ]
    }
   ],
   "source": [
    "## Display Array Shape ##\n",
    "\n",
    "print(f\"image dataset shape = {train_feature.shape}\")\n",
    "\n",
    "print(f\"lable dataset shape = {lables.shape}\")"
   ]
  },
  {
   "cell_type": "code",
   "execution_count": null,
   "metadata": {
    "colab": {
     "base_uri": "https://localhost:8080/"
    },
    "id": "LZoPZ4qE7Tey",
    "outputId": "a6b71349-748b-42cd-a665-766321d56990"
   },
   "outputs": [
    {
     "name": "stdout",
     "output_type": "stream",
     "text": [
      "train_features shape = (1036, 200, 200)\n",
      "test_features shape = (260, 200, 200)\n",
      "train_target shape = (1036,)\n",
      "test_target shape = (260,)\n"
     ]
    }
   ],
   "source": [
    "from sklearn.model_selection import train_test_split\n",
    "\n",
    "train_features, test_features, train_target, test_target = train_test_split(train_feature,lables,test_size=0.2)\n",
    "\n",
    "print(f\"train_features shape = {train_features.shape}\")\n",
    "\n",
    "print(f\"test_features shape = {test_features.shape}\")\n",
    "\n",
    "print(f\"train_target shape = {train_target.shape}\")\n",
    "\n",
    "print(f\"test_target shape = {test_target.shape}\")"
   ]
  },
  {
   "cell_type": "code",
   "execution_count": null,
   "metadata": {
    "colab": {
     "base_uri": "https://localhost:8080/"
    },
    "id": "IJ6wCsTB7U9d",
    "outputId": "af7e6a78-ecd9-459a-cbd6-85e98bcdd5d5"
   },
   "outputs": [
    {
     "name": "stdout",
     "output_type": "stream",
     "text": [
      "Model: \"sequential_11\"\n",
      "_________________________________________________________________\n",
      " Layer (type)                Output Shape              Param #   \n",
      "=================================================================\n",
      " simple_rnn_12 (SimpleRNN)   (None, 256)               116992    \n",
      "                                                                 \n",
      " dropout_9 (Dropout)         (None, 256)               0         \n",
      "                                                                 \n",
      " dense_11 (Dense)            (None, 50)                12850     \n",
      "                                                                 \n",
      " dense_12 (Dense)            (None, 5)                 255       \n",
      "                                                                 \n",
      "=================================================================\n",
      "Total params: 130,097\n",
      "Trainable params: 130,097\n",
      "Non-trainable params: 0\n",
      "_________________________________________________________________\n"
     ]
    }
   ],
   "source": [
    "import keras\n",
    "import tensorflow\n",
    "from tensorflow.keras.utils import to_categorical\n",
    "from keras.models import Sequential\n",
    "from keras.layers import Dense, SimpleRNN, LSTM, Dropout\n",
    "\n",
    "# ONE NOT ENCODING\n",
    "train_target = to_categorical(lables)\n",
    "\n",
    "# MODEL LAYERS\n",
    "model = Sequential()\n",
    "model.add(SimpleRNN(256, input_shape=(200, 200)))\n",
    "model.add(Dropout(0.2))\n",
    "model.add(Dense(50, activation='relu'))\n",
    "model.add(Dense(5, activation='softmax'))\n",
    "model.summary()\n"
   ]
  },
  {
   "cell_type": "code",
   "execution_count": null,
   "metadata": {
    "id": "cKWhtdGb7YAc"
   },
   "outputs": [],
   "source": [
    "# MODEL COPILE\n",
    "\n",
    "from tensorflow.keras.optimizers import Adam\n",
    "\n",
    "model.compile(Adam(learning_rate = 0.001), loss='categorical_crossentropy', metrics=['accuracy'])"
   ]
  },
  {
   "cell_type": "code",
   "execution_count": null,
   "metadata": {
    "colab": {
     "base_uri": "https://localhost:8080/"
    },
    "id": "RzFLNkwW9u-Q",
    "outputId": "8987ac63-7db5-45c4-a5cd-4c7ac93bf7ae"
   },
   "outputs": [
    {
     "name": "stdout",
     "output_type": "stream",
     "text": [
      "Epoch 1/20\n",
      "44/44 [==============================] - 9s 185ms/step - loss: 1.4870 - accuracy: 0.4020\n",
      "Epoch 2/20\n",
      "44/44 [==============================] - 9s 192ms/step - loss: 1.4568 - accuracy: 0.4275\n",
      "Epoch 3/20\n",
      "44/44 [==============================] - 9s 205ms/step - loss: 1.4372 - accuracy: 0.4437\n",
      "Epoch 4/20\n",
      "44/44 [==============================] - 8s 185ms/step - loss: 1.4312 - accuracy: 0.4460\n",
      "Epoch 5/20\n",
      "44/44 [==============================] - 8s 190ms/step - loss: 1.4278 - accuracy: 0.4460\n",
      "Epoch 6/20\n",
      "44/44 [==============================] - 9s 203ms/step - loss: 1.4301 - accuracy: 0.4483\n",
      "Epoch 7/20\n",
      "44/44 [==============================] - 8s 188ms/step - loss: 1.4133 - accuracy: 0.4491\n",
      "Epoch 8/20\n",
      "44/44 [==============================] - 8s 187ms/step - loss: 1.4095 - accuracy: 0.4452\n",
      "Epoch 9/20\n",
      "44/44 [==============================] - 9s 203ms/step - loss: 1.4070 - accuracy: 0.4452\n",
      "Epoch 10/20\n",
      "44/44 [==============================] - 8s 192ms/step - loss: 1.4160 - accuracy: 0.4429\n",
      "Epoch 11/20\n",
      "44/44 [==============================] - 8s 186ms/step - loss: 1.4093 - accuracy: 0.4491\n",
      "Epoch 12/20\n",
      "44/44 [==============================] - 9s 211ms/step - loss: 1.4062 - accuracy: 0.4390\n",
      "Epoch 13/20\n",
      "44/44 [==============================] - 9s 203ms/step - loss: 1.4450 - accuracy: 0.4275\n",
      "Epoch 14/20\n",
      "44/44 [==============================] - 8s 177ms/step - loss: 1.4269 - accuracy: 0.4444\n",
      "Epoch 15/20\n",
      "44/44 [==============================] - 9s 204ms/step - loss: 1.4419 - accuracy: 0.4460\n",
      "Epoch 16/20\n",
      "44/44 [==============================] - 9s 204ms/step - loss: 1.4083 - accuracy: 0.4475\n",
      "Epoch 17/20\n",
      "44/44 [==============================] - 8s 177ms/step - loss: 1.4267 - accuracy: 0.4475\n",
      "Epoch 18/20\n",
      "44/44 [==============================] - 10s 218ms/step - loss: 1.4128 - accuracy: 0.4468\n",
      "Epoch 19/20\n",
      "44/44 [==============================] - 9s 203ms/step - loss: 1.4080 - accuracy: 0.4468\n",
      "Epoch 20/20\n",
      "44/44 [==============================] - 8s 177ms/step - loss: 1.4030 - accuracy: 0.4460\n"
     ]
    },
    {
     "data": {
      "text/plain": [
       "<keras.callbacks.History at 0x7f2e0f1411f0>"
      ]
     },
     "execution_count": 41,
     "metadata": {},
     "output_type": "execute_result"
    }
   ],
   "source": [
    "model.fit(train_feature, train_target, batch_size = 30, epochs = 20)"
   ]
  },
  {
   "cell_type": "code",
   "execution_count": null,
   "metadata": {
    "colab": {
     "base_uri": "https://localhost:8080/"
    },
    "id": "5CrC-VFPDq1_",
    "outputId": "a62ac712-2dbd-4c54-81ea-911ed243f3f7"
   },
   "outputs": [
    {
     "name": "stdout",
     "output_type": "stream",
     "text": [
      "9/9 [==============================] - 1s 47ms/step\n"
     ]
    }
   ],
   "source": [
    "prediction = model.predict(test_features)\n"
   ]
  },
  {
   "cell_type": "code",
   "execution_count": null,
   "metadata": {
    "colab": {
     "base_uri": "https://localhost:8080/"
    },
    "id": "G7NFrKkkEBZh",
    "outputId": "58a8c256-11ef-412c-fcc3-7cbf7b63fa3c"
   },
   "outputs": [
    {
     "name": "stdout",
     "output_type": "stream",
     "text": [
      "Accuracy: 0.4807692307692308\n",
      "Precision: 0.3016238197365123\n",
      "Recall: 0.27298706827736685\n",
      "F1 Score: 0.24789376356644416\n",
      "Confusion Matrix:\n",
      " [[  0  36   3   0   2]\n",
      " [  0 105   4   0   5]\n",
      " [  0  31  14   0   1]\n",
      " [  0  15   1   0   0]\n",
      " [  0  36   1   0   6]]\n"
     ]
    },
    {
     "name": "stderr",
     "output_type": "stream",
     "text": [
      "/usr/local/lib/python3.9/dist-packages/sklearn/metrics/_classification.py:1344: UndefinedMetricWarning: Precision is ill-defined and being set to 0.0 in labels with no predicted samples. Use `zero_division` parameter to control this behavior.\n",
      "  _warn_prf(average, modifier, msg_start, len(result))\n"
     ]
    }
   ],
   "source": [
    "# Accuracy of Our Model #\n",
    "import numpy as np\n",
    "from keras.models import load_model\n",
    "from sklearn.metrics import accuracy_score, precision_score, recall_score, f1_score, confusion_matrix\n",
    "\n",
    "y_true = []\n",
    "y_pred = []\n",
    "for i in range(260) :\n",
    "\n",
    "    predicted_label = np.argmax(prediction[i])\n",
    "    y_true.append(test_target[i])\n",
    "    y_pred.append(predicted_label)\n",
    "\n",
    "accuracy = accuracy_score(y_true, y_pred)\n",
    "precision = precision_score(y_true, y_pred, average='macro')\n",
    "recall = recall_score(y_true, y_pred, average='macro')\n",
    "f1 = f1_score(y_true, y_pred, average='macro')\n",
    "confusion = confusion_matrix(y_true, y_pred)\n",
    "print('Accuracy:', accuracy)\n",
    "print('Precision:', precision)\n",
    "print('Recall:', recall)\n",
    "print('F1 Score:', f1)\n",
    "print('Confusion Matrix:\\n', confusion)\n",
    "     "
   ]
  },
  {
   "cell_type": "code",
   "execution_count": null,
   "metadata": {
    "id": "3t9k1_3390Vx"
   },
   "outputs": [],
   "source": []
  }
 ],
 "metadata": {
  "accelerator": "GPU",
  "colab": {
   "provenance": []
  },
  "gpuClass": "standard",
  "kernelspec": {
   "display_name": "Python 3 (ipykernel)",
   "language": "python",
   "name": "python3"
  },
  "language_info": {
   "codemirror_mode": {
    "name": "ipython",
    "version": 3
   },
   "file_extension": ".py",
   "mimetype": "text/x-python",
   "name": "python",
   "nbconvert_exporter": "python",
   "pygments_lexer": "ipython3",
   "version": "3.9.12"
  }
 },
 "nbformat": 4,
 "nbformat_minor": 1
}
