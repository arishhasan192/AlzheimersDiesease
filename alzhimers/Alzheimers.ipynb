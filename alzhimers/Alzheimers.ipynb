{
 "cells": [
  {
   "cell_type": "code",
   "execution_count": null,
   "metadata": {
    "colab": {
     "base_uri": "https://localhost:8080/"
    },
    "id": "Q6WLbKbAJicq",
    "outputId": "5c9d9348-3a7e-42e5-9c39-1afa54d62b56"
   },
   "outputs": [
    {
     "name": "stdout",
     "output_type": "stream",
     "text": [
      "sample_data\n"
     ]
    }
   ],
   "source": [
    "!dir"
   ]
  },
  {
   "cell_type": "code",
   "execution_count": null,
   "metadata": {
    "colab": {
     "base_uri": "https://localhost:8080/"
    },
    "id": "ibu-r8dFLpdF",
    "outputId": "cdc04ede-3d66-4174-b855-4e4c3c38e562"
   },
   "outputs": [
    {
     "name": "stdout",
     "output_type": "stream",
     "text": [
      "Cloning into 'data'...\n",
      "remote: Enumerating objects: 1311, done.\u001b[K\n",
      "remote: Counting objects: 100% (1311/1311), done.\u001b[K\n",
      "remote: Compressing objects: 100% (1308/1308), done.\u001b[K\n",
      "remote: Total 1311 (delta 1), reused 1311 (delta 1), pack-reused 0\u001b[K\n",
      "Receiving objects: 100% (1311/1311), 19.88 MiB | 17.77 MiB/s, done.\n",
      "Resolving deltas: 100% (1/1), done.\n"
     ]
    }
   ],
   "source": [
    "!git clone https://github.com/arishhasan192/data.git"
   ]
  },
  {
   "cell_type": "code",
   "execution_count": null,
   "metadata": {
    "colab": {
     "base_uri": "https://localhost:8080/"
    },
    "id": "nXG6bDo2JmpL",
    "outputId": "08ab8af1-c0f4-4901-bd62-325f73ec012a"
   },
   "outputs": [
    {
     "name": "stdout",
     "output_type": "stream",
     "text": [
      "/content/data\n"
     ]
    }
   ],
   "source": [
    "cd data/"
   ]
  },
  {
   "cell_type": "code",
   "execution_count": null,
   "metadata": {
    "colab": {
     "base_uri": "https://localhost:8080/"
    },
    "id": "eJHCCQpVJpSm",
    "outputId": "4c7449ec-e228-4fb6-d78b-709e6b5e68d7"
   },
   "outputs": [
    {
     "name": "stdout",
     "output_type": "stream",
     "text": [
      "Alzheimers-ADNI  Images  README.md\n"
     ]
    }
   ],
   "source": [
    "!ls"
   ]
  },
  {
   "cell_type": "code",
   "execution_count": null,
   "metadata": {
    "id": "-yRximKNJqL6"
   },
   "outputs": [],
   "source": [
    "import cv2\n",
    "\n",
    "# store list\n",
    "images = []\n",
    "lables = []\n",
    "\n",
    "## AD Patient Brain Scan with PreProcessing of the Image ##\n",
    "for i in range(1, 172):\n",
    "    img = cv2.imread(f\"/content/data/Alzheimers-ADNI/train/Final AD JPEG/AD ({i}).jpg\")\n",
    "    gray = cv2.cvtColor(img,cv2.COLOR_BGR2GRAY)\n",
    "    gray = gray/255\n",
    "    gray = cv2.resize(gray,(200, 200))\n",
    "    images.append(gray)\n",
    "    lables.append(0)  # AD"
   ]
  },
  {
   "cell_type": "code",
   "execution_count": null,
   "metadata": {
    "id": "mLOxkqVBLAlW"
   },
   "outputs": [],
   "source": [
    "## CN Patient Brain Scan with PreProcessing of the Image ##\n",
    "for i in range(1, 581):\n",
    "    img = cv2.imread(f\"/content/data/Alzheimers-ADNI/train/Final CN JPEG/CN ({i}).jpg\")\n",
    "    gray = cv2.cvtColor(img,cv2.COLOR_BGR2GRAY)\n",
    "    gray = gray/255\n",
    "    gray = cv2.resize(gray,(200, 200))\n",
    "    images.append(gray)\n",
    "    lables.append(1)  # CN\n",
    "     "
   ]
  },
  {
   "cell_type": "code",
   "execution_count": null,
   "metadata": {
    "id": "jyKQ9XwzLIF9"
   },
   "outputs": [],
   "source": [
    "## EMCI Patient Brain Scan with PreProcessing of the Image ##\n",
    "for i in range(1, 241):\n",
    "    img = cv2.imread(f\"/content/data/Alzheimers-ADNI/train/Final EMCI JPEG/EMCI ({i}).jpg\")\n",
    "    gray = cv2.cvtColor(img,cv2.COLOR_BGR2GRAY)\n",
    "    gray = gray/255\n",
    "    gray = cv2.resize(gray,(200, 200))\n",
    "    images.append(gray)\n",
    "    lables.append(2)  # EMCI\n",
    "     \n"
   ]
  },
  {
   "cell_type": "code",
   "execution_count": null,
   "metadata": {
    "id": "pgAz5S5BLRSl"
   },
   "outputs": [],
   "source": [
    "## LMCI Patient Brain Scan with PreProcessing of the Image ##\n",
    "for i in range(1, 73):\n",
    "    img = cv2.imread(f\"/content/data/Alzheimers-ADNI/train/Final LMCI JPEG/LMCI ({i}).jpg\")\n",
    "    gray = cv2.cvtColor(img,cv2.COLOR_BGR2GRAY)\n",
    "    gray = gray/255\n",
    "    gray = cv2.resize(gray,(200, 200))\n",
    "    images.append(gray)\n",
    "    lables.append(3)  # LMCI\n",
    "     "
   ]
  },
  {
   "cell_type": "code",
   "execution_count": null,
   "metadata": {
    "id": "qhpC7NQNLWbZ"
   },
   "outputs": [],
   "source": [
    "## LMCI Patient Brain Scan with PreProcessing of the Image ##\n",
    "for i in range(1, 234):\n",
    "    img = cv2.imread(f\"/content/data/Alzheimers-ADNI/train/Final MCI JPEG/MCI ({i}).jpg\")\n",
    "    gray = cv2.cvtColor(img,cv2.COLOR_BGR2GRAY)\n",
    "    gray = gray/255\n",
    "    gray = cv2.resize(gray,(200, 200))\n",
    "    images.append(gray)\n",
    "    lables.append(4)  # MCI"
   ]
  },
  {
   "cell_type": "code",
   "execution_count": null,
   "metadata": {
    "colab": {
     "base_uri": "https://localhost:8080/"
    },
    "id": "FT9arH3uLc-7",
    "outputId": "63a4c4e5-5cb1-4ddf-eb36-86fd332805c3"
   },
   "outputs": [
    {
     "name": "stdout",
     "output_type": "stream",
     "text": [
      "Shape of each image is = (200, 200)\n"
     ]
    }
   ],
   "source": [
    "# Shape of the Images\n",
    "\n",
    "print(f\"Shape of each image is = {images[1000].shape}\")"
   ]
  },
  {
   "cell_type": "code",
   "execution_count": null,
   "metadata": {
    "id": "WQWAHL0dLfsa"
   },
   "outputs": [],
   "source": [
    "\n",
    "# Convert The List into Array Format  #\n",
    "\n",
    "import numpy as np\n",
    "\n",
    "train_feature = np.array(images)\n",
    "lables = np.array(lables)\n",
    "     \n"
   ]
  },
  {
   "cell_type": "code",
   "execution_count": null,
   "metadata": {
    "colab": {
     "base_uri": "https://localhost:8080/"
    },
    "id": "Gmx3oUIvLibE",
    "outputId": "4ed15586-315a-42f5-8b7e-0140cceb008f"
   },
   "outputs": [
    {
     "name": "stdout",
     "output_type": "stream",
     "text": [
      "image dataset shape = (1296, 200, 200)\n",
      "lable dataset shape = (1296,)\n"
     ]
    }
   ],
   "source": [
    "## Display Array Shape ##\n",
    "\n",
    "print(f\"image dataset shape = {train_feature.shape}\")\n",
    "\n",
    "print(f\"lable dataset shape = {lables.shape}\")"
   ]
  },
  {
   "cell_type": "code",
   "execution_count": null,
   "metadata": {
    "colab": {
     "base_uri": "https://localhost:8080/"
    },
    "id": "aMTMFPPpLkfy",
    "outputId": "7cf7070e-09f3-4c88-c03c-ded45fd8b19a"
   },
   "outputs": [
    {
     "name": "stdout",
     "output_type": "stream",
     "text": [
      "train_features shape = (1036, 200, 200)\n",
      "test_features shape = (260, 200, 200)\n",
      "train_target shape = (1036,)\n",
      "test_target shape = (260,)\n"
     ]
    }
   ],
   "source": [
    "from sklearn.model_selection import train_test_split\n",
    "\n",
    "train_features, test_features, train_target, test_target = train_test_split(train_feature,lables,test_size=0.2)\n",
    "\n",
    "print(f\"train_features shape = {train_features.shape}\")\n",
    "\n",
    "print(f\"test_features shape = {test_features.shape}\")\n",
    "\n",
    "print(f\"train_target shape = {train_target.shape}\")\n",
    "\n",
    "print(f\"test_target shape = {test_target.shape}\")"
   ]
  },
  {
   "cell_type": "code",
   "execution_count": null,
   "metadata": {
    "colab": {
     "base_uri": "https://localhost:8080/"
    },
    "id": "4ae2-PcbLnB4",
    "outputId": "9d37c3c9-6a10-4f85-a081-bcaeec4552e7"
   },
   "outputs": [
    {
     "name": "stdout",
     "output_type": "stream",
     "text": [
      "Model: \"sequential_6\"\n",
      "_________________________________________________________________\n",
      " Layer (type)                Output Shape              Param #   \n",
      "=================================================================\n",
      " conv2d_15 (Conv2D)          (None, 198, 198, 32)      320       \n",
      "                                                                 \n",
      " max_pooling2d_12 (MaxPoolin  (None, 99, 99, 32)       0         \n",
      " g2D)                                                            \n",
      "                                                                 \n",
      " conv2d_16 (Conv2D)          (None, 97, 97, 64)        18496     \n",
      "                                                                 \n",
      " max_pooling2d_13 (MaxPoolin  (None, 48, 48, 64)       0         \n",
      " g2D)                                                            \n",
      "                                                                 \n",
      " conv2d_17 (Conv2D)          (None, 46, 46, 128)       73856     \n",
      "                                                                 \n",
      " max_pooling2d_14 (MaxPoolin  (None, 23, 23, 128)      0         \n",
      " g2D)                                                            \n",
      "                                                                 \n",
      " flatten_4 (Flatten)         (None, 67712)             0         \n",
      "                                                                 \n",
      " dense_10 (Dense)            (None, 25)                1692825   \n",
      "                                                                 \n",
      " dense_11 (Dense)            (None, 5)                 130       \n",
      "                                                                 \n",
      "=================================================================\n",
      "Total params: 1,785,627\n",
      "Trainable params: 1,785,627\n",
      "Non-trainable params: 0\n",
      "_________________________________________________________________\n"
     ]
    }
   ],
   "source": [
    "# MODEL ARCHITECTURE\n",
    "\n",
    "import keras\n",
    "import tensorflow\n",
    "from tensorflow.keras.utils import to_categorical\n",
    "from keras.models import Sequential\n",
    "from keras.layers import Dense, Flatten, Conv2D, MaxPooling2D, Dropout\n",
    "\n",
    "# ONE NOT ENCODING\n",
    "\n",
    "train_target = to_categorical(lables)\n",
    "\n",
    "# MODEL LAYERS\n",
    "\n",
    "model=Sequential()\n",
    "# Convolutional Layers\n",
    "model.add(Conv2D(32, kernel_size = (3,3), str  ides = (1,1), input_shape = (200, 200, 1)))\n",
    "model.add(MaxPooling2D(pool_size = (2,2)))\n",
    "model.add(Conv2D(64, kernel_size = (3,3), strides = (1,1), activation = 'relu'))\n",
    "model.add(MaxPooling2D(pool_size = (2,2)))\n",
    "model.add(Conv2D(128, (3, 3), activation='relu'))\n",
    "model.add(MaxPooling2D((2, 2)))\n",
    "model.add(Flatten())\n",
    "model.add(Dense(25,activation='relu'))\n",
    "model.add(Dense(5,activation='softmax'))\n",
    "model.summary()"
   ]
  },
  {
   "cell_type": "code",
   "execution_count": null,
   "metadata": {
    "id": "YKt1GX--Ltvz"
   },
   "outputs": [],
   "source": [
    "# MODEL COPILE\n",
    "\n",
    "from tensorflow.keras.optimizers import Adam\n",
    "\n",
    "model.compile(Adam(learning_rate = 0.001), loss='categorical_crossentropy', metrics=['accuracy'])"
   ]
  },
  {
   "cell_type": "code",
   "execution_count": null,
   "metadata": {
    "colab": {
     "base_uri": "https://localhost:8080/"
    },
    "id": "T_6zknO9LxJQ",
    "outputId": "ea04de03-71da-437d-a9b8-67666feb83d8"
   },
   "outputs": [
    {
     "name": "stdout",
     "output_type": "stream",
     "text": [
      "Epoch 1/20\n",
      "44/44 [==============================] - 3s 33ms/step - loss: 1.4541 - accuracy: 0.4475\n",
      "Epoch 2/20\n",
      "44/44 [==============================] - 1s 31ms/step - loss: 1.4096 - accuracy: 0.4475\n",
      "Epoch 3/20\n",
      "44/44 [==============================] - 1s 32ms/step - loss: 1.4131 - accuracy: 0.4475\n",
      "Epoch 4/20\n",
      "44/44 [==============================] - 1s 32ms/step - loss: 1.3939 - accuracy: 0.4483\n",
      "Epoch 5/20\n",
      "44/44 [==============================] - 1s 32ms/step - loss: 1.3622 - accuracy: 0.4514\n",
      "Epoch 6/20\n",
      "44/44 [==============================] - 1s 31ms/step - loss: 1.3263 - accuracy: 0.4606\n",
      "Epoch 7/20\n",
      "44/44 [==============================] - 1s 32ms/step - loss: 1.2783 - accuracy: 0.4722\n",
      "Epoch 8/20\n",
      "44/44 [==============================] - 1s 32ms/step - loss: 1.1785 - accuracy: 0.5085\n",
      "Epoch 9/20\n",
      "44/44 [==============================] - 1s 31ms/step - loss: 1.0791 - accuracy: 0.5255\n",
      "Epoch 10/20\n",
      "44/44 [==============================] - 1s 31ms/step - loss: 0.9862 - accuracy: 0.5710\n",
      "Epoch 11/20\n",
      "44/44 [==============================] - 1s 31ms/step - loss: 0.8279 - accuracy: 0.6659\n",
      "Epoch 12/20\n",
      "44/44 [==============================] - 1s 32ms/step - loss: 0.6294 - accuracy: 0.7708\n",
      "Epoch 13/20\n",
      "44/44 [==============================] - 1s 32ms/step - loss: 0.4833 - accuracy: 0.8094\n",
      "Epoch 14/20\n",
      "44/44 [==============================] - 1s 32ms/step - loss: 0.3386 - accuracy: 0.8758\n",
      "Epoch 15/20\n",
      "44/44 [==============================] - 1s 32ms/step - loss: 0.2708 - accuracy: 0.9159\n",
      "Epoch 16/20\n",
      "44/44 [==============================] - 1s 32ms/step - loss: 0.2144 - accuracy: 0.9375\n",
      "Epoch 17/20\n",
      "44/44 [==============================] - 1s 32ms/step - loss: 0.1876 - accuracy: 0.9460\n",
      "Epoch 18/20\n",
      "44/44 [==============================] - 1s 32ms/step - loss: 0.1615 - accuracy: 0.9545\n",
      "Epoch 19/20\n",
      "44/44 [==============================] - 1s 31ms/step - loss: 0.1415 - accuracy: 0.9606\n",
      "Epoch 20/20\n",
      "44/44 [==============================] - 1s 32ms/step - loss: 0.1364 - accuracy: 0.9622\n"
     ]
    },
    {
     "data": {
      "text/plain": [
       "<keras.callbacks.History at 0x7f6bcaf4ecd0>"
      ]
     },
     "execution_count": 41,
     "metadata": {},
     "output_type": "execute_result"
    }
   ],
   "source": [
    "model.fit(train_feature, train_target, batch_size = 30, epochs = 20)"
   ]
  },
  {
   "cell_type": "code",
   "execution_count": null,
   "metadata": {
    "colab": {
     "base_uri": "https://localhost:8080/"
    },
    "id": "50utBEQ6RlfO",
    "outputId": "2ef22abf-e01e-43e6-e659-9773dafc4ca5"
   },
   "outputs": [
    {
     "name": "stdout",
     "output_type": "stream",
     "text": [
      "9/9 [==============================] - 0s 14ms/step\n"
     ]
    }
   ],
   "source": [
    "prediction = model.predict(test_features)\n"
   ]
  },
  {
   "cell_type": "code",
   "execution_count": null,
   "metadata": {
    "colab": {
     "base_uri": "https://localhost:8080/"
    },
    "id": "QTXOQSZBRmaj",
    "outputId": "baa6defb-6146-4e70-c793-bf1e5bc58b93"
   },
   "outputs": [
    {
     "name": "stdout",
     "output_type": "stream",
     "text": [
      "Accuracy: 0.9346153846153846\n",
      "Precision: 0.9071778085014095\n",
      "Recall: 0.8438664110584199\n",
      "F1 Score: 0.8478546286905523\n",
      "Confusion Matrix:\n",
      " [[ 27   0   0   0   0]\n",
      " [  0 108   2   0   0]\n",
      " [  2   0  50   1   0]\n",
      " [  0   0   1   5  11]\n",
      " [  0   0   0   0  53]]\n"
     ]
    }
   ],
   "source": [
    "# Accuracy of Our Model #\n",
    "import numpy as np\n",
    "from keras.models import load_model\n",
    "from sklearn.metrics import accuracy_score, precision_score, recall_score, f1_score, confusion_matrix\n",
    "\n",
    "y_true = []\n",
    "y_pred = []\n",
    "for i in range(260) :\n",
    "    predicted_label = np.argmax(prediction[i])\n",
    "    y_true.append(test_target[i])\n",
    "    y_pred.append(predicted_label)\n",
    "\n",
    "accuracy = accuracy_score(y_true, y_pred)\n",
    "precision = precision_score(y_true, y_pred, average='macro')\n",
    "recall = recall_score(y_true, y_pred, average='macro')\n",
    "f1 = f1_score(y_true, y_pred, average='macro')\n",
    "confusion = confusion_matrix(y_true, y_pred)\n",
    "print('Accuracy:', accuracy)\n",
    "print('Precision:', precision)\n",
    "print('Recall:', recall)\n",
    "print('F1 Score:', f1)\n",
    "print('Confusion Matrix:\\n', confusion)\n",
    "     "
   ]
  }
 ],
 "metadata": {
  "accelerator": "GPU",
  "colab": {
   "provenance": []
  },
  "gpuClass": "standard",
  "kernelspec": {
   "display_name": "Python 3 (ipykernel)",
   "language": "python",
   "name": "python3"
  },
  "language_info": {
   "codemirror_mode": {
    "name": "ipython",
    "version": 3
   },
   "file_extension": ".py",
   "mimetype": "text/x-python",
   "name": "python",
   "nbconvert_exporter": "python",
   "pygments_lexer": "ipython3",
   "version": "3.9.12"
  }
 },
 "nbformat": 4,
 "nbformat_minor": 1
}
