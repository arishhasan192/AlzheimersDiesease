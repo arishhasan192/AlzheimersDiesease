{
 "cells": [
  {
   "cell_type": "code",
   "execution_count": null,
   "metadata": {
    "colab": {
     "base_uri": "https://localhost:8080/"
    },
    "id": "vPBng47d_F1n",
    "outputId": "dfb1618a-5d49-4d0b-8331-7b7e390031e8"
   },
   "outputs": [
    {
     "name": "stdout",
     "output_type": "stream",
     "text": [
      "Cloning into 'data'...\n",
      "remote: Enumerating objects: 1311, done.\u001b[K\n",
      "remote: Counting objects: 100% (1311/1311), done.\u001b[K\n",
      "remote: Compressing objects: 100% (1308/1308), done.\u001b[K\n",
      "remote: Total 1311 (delta 1), reused 1311 (delta 1), pack-reused 0\u001b[K\n",
      "Receiving objects: 100% (1311/1311), 19.88 MiB | 21.68 MiB/s, done.\n",
      "Resolving deltas: 100% (1/1), done.\n"
     ]
    }
   ],
   "source": [
    "!git clone https://github.com/arishhasan192/data.git"
   ]
  },
  {
   "cell_type": "code",
   "execution_count": null,
   "metadata": {
    "id": "D9sqX7TwGObr"
   },
   "outputs": [],
   "source": [
    "from keras.models import Sequential\n",
    "from keras.layers import LSTM, Dense"
   ]
  },
  {
   "cell_type": "code",
   "execution_count": null,
   "metadata": {
    "colab": {
     "base_uri": "https://localhost:8080/"
    },
    "id": "BtZAbEFe_joU",
    "outputId": "179aa404-5fc4-4b51-f409-8cd73bf8a665"
   },
   "outputs": [
    {
     "name": "stdout",
     "output_type": "stream",
     "text": [
      "/content/data\n"
     ]
    }
   ],
   "source": [
    "cd data/"
   ]
  },
  {
   "cell_type": "code",
   "execution_count": null,
   "metadata": {
    "id": "VYIGyq2n_mm1"
   },
   "outputs": [],
   "source": [
    "import cv2\n",
    "\n",
    "# store list\n",
    "images = []\n",
    "lables = []\n",
    "\n",
    "## AD Patient Brain Scan with PreProcessing of the Image ##\n",
    "for i in range(1, 172):\n",
    "    img = cv2.imread(f\"/content/data/Alzheimers-ADNI/train/Final AD JPEG/AD ({i}).jpg\")\n",
    "    gray = cv2.cvtColor(img,cv2.COLOR_BGR2GRAY)\n",
    "    gray = gray/255\n",
    "    gray = cv2.resize(gray,(200, 200))\n",
    "    images.append(gray)\n",
    "    lables.append(0)  # AD"
   ]
  },
  {
   "cell_type": "code",
   "execution_count": null,
   "metadata": {
    "id": "3NTaD0u9_qt2"
   },
   "outputs": [],
   "source": [
    "## CN Patient Brain Scan with PreProcessing of the Image ##\n",
    "for i in range(1, 581):\n",
    "    img = cv2.imread(f\"/content/data/Alzheimers-ADNI/train/Final CN JPEG/CN ({i}).jpg\")\n",
    "    gray = cv2.cvtColor(img,cv2.COLOR_BGR2GRAY)\n",
    "    gray = gray/255\n",
    "    gray = cv2.resize(gray,(200, 200))\n",
    "    images.append(gray)\n",
    "    lables.append(1)  # CN\n",
    "     "
   ]
  },
  {
   "cell_type": "code",
   "execution_count": null,
   "metadata": {
    "id": "qSisw_hc_vIg"
   },
   "outputs": [],
   "source": [
    "## EMCI Patient Brain Scan with PreProcessing of the Image ##\n",
    "for i in range(1, 241):\n",
    "    img = cv2.imread(f\"/content/data/Alzheimers-ADNI/train/Final EMCI JPEG/EMCI ({i}).jpg\")\n",
    "    gray = cv2.cvtColor(img,cv2.COLOR_BGR2GRAY)\n",
    "    gray = gray/255\n",
    "    gray = cv2.resize(gray,(200, 200))\n",
    "    images.append(gray)\n",
    "    lables.append(2)  # EMCI\n",
    "     \n"
   ]
  },
  {
   "cell_type": "code",
   "execution_count": null,
   "metadata": {
    "id": "xPu2mEhp_zUe"
   },
   "outputs": [],
   "source": [
    "## LMCI Patient Brain Scan with PreProcessing of the Image ##\n",
    "for i in range(1, 73):\n",
    "    img = cv2.imread(f\"/content/data/Alzheimers-ADNI/train/Final LMCI JPEG/LMCI ({i}).jpg\")\n",
    "    gray = cv2.cvtColor(img,cv2.COLOR_BGR2GRAY)\n",
    "    gray = gray/255\n",
    "    gray = cv2.resize(gray,(200, 200))\n",
    "    images.append(gray)\n",
    "    lables.append(3)  # LMCI\n",
    "     "
   ]
  },
  {
   "cell_type": "code",
   "execution_count": null,
   "metadata": {
    "id": "tWasT-RR_3YN"
   },
   "outputs": [],
   "source": [
    "## LMCI Patient Brain Scan with PreProcessing of the Image ##\n",
    "for i in range(1, 234):\n",
    "    img = cv2.imread(f\"/content/data/Alzheimers-ADNI/train/Final MCI JPEG/MCI ({i}).jpg\")\n",
    "    gray = cv2.cvtColor(img,cv2.COLOR_BGR2GRAY)\n",
    "    gray = gray/255\n",
    "    gray = cv2.resize(gray,(200, 200))\n",
    "    images.append(gray)\n",
    "    lables.append(4)  # MCI"
   ]
  },
  {
   "cell_type": "code",
   "execution_count": null,
   "metadata": {
    "id": "k8F724p-_7mD"
   },
   "outputs": [],
   "source": [
    "\n",
    "# Convert The List into Array Format  #\n",
    "\n",
    "import numpy as np\n",
    "\n",
    "train_feature = np.array(images)\n",
    "lables = np.array(lables)\n",
    "     \n"
   ]
  },
  {
   "cell_type": "code",
   "execution_count": null,
   "metadata": {
    "colab": {
     "base_uri": "https://localhost:8080/"
    },
    "id": "44sY6b8u_98m",
    "outputId": "425c5675-738e-4f20-b381-9317c90137ed"
   },
   "outputs": [
    {
     "name": "stdout",
     "output_type": "stream",
     "text": [
      "train_features shape = (1140, 200, 200)\n",
      "test_features shape = (156, 200, 200)\n",
      "train_target shape = (1140,)\n",
      "test_target shape = (156,)\n"
     ]
    }
   ],
   "source": [
    "from sklearn.model_selection import train_test_split\n",
    "\n",
    "train_features, test_features, train_target, test_target = train_test_split(train_feature,lables,test_size=0.12)\n",
    "\n",
    "print(f\"train_features shape = {train_features.shape}\")\n",
    "\n",
    "print(f\"test_features shape = {test_features.shape}\")\n",
    "\n",
    "print(f\"train_target shape = {train_target.shape}\")\n",
    "\n",
    "print(f\"test_target shape = {test_target.shape}\")"
   ]
  },
  {
   "cell_type": "code",
   "execution_count": null,
   "metadata": {
    "colab": {
     "base_uri": "https://localhost:8080/"
    },
    "id": "tir7FYDYAAQN",
    "outputId": "11784584-2104-4a4f-d618-ea3a375ede27"
   },
   "outputs": [
    {
     "name": "stdout",
     "output_type": "stream",
     "text": [
      "Model: \"sequential\"\n",
      "_________________________________________________________________\n",
      " Layer (type)                Output Shape              Param #   \n",
      "=================================================================\n",
      " conv2d (Conv2D)             (None, 200, 200, 25)      250       \n",
      "                                                                 \n",
      " conv2d_1 (Conv2D)           (None, 200, 200, 75)      16950     \n",
      "                                                                 \n",
      " max_pooling2d (MaxPooling2D  (None, 100, 100, 75)     0         \n",
      " )                                                               \n",
      "                                                                 \n",
      " flatten (Flatten)           (None, 750000)            0         \n",
      "                                                                 \n",
      " reshape (Reshape)           (None, 1, 750000)         0         \n",
      "                                                                 \n",
      " lstm (LSTM)                 (None, 64)                192016640 \n",
      "                                                                 \n",
      " dense (Dense)               (None, 500)               32500     \n",
      "                                                                 \n",
      " dropout (Dropout)           (None, 500)               0         \n",
      "                                                                 \n",
      " dense_1 (Dense)             (None, 250)               125250    \n",
      "                                                                 \n",
      " dropout_1 (Dropout)         (None, 250)               0         \n",
      "                                                                 \n",
      " dense_2 (Dense)             (None, 100)               25100     \n",
      "                                                                 \n",
      " dense_3 (Dense)             (None, 5)                 505       \n",
      "                                                                 \n",
      "=================================================================\n",
      "Total params: 192,217,195\n",
      "Trainable params: 192,217,195\n",
      "Non-trainable params: 0\n",
      "_________________________________________________________________\n"
     ]
    }
   ],
   "source": [
    "import keras\n",
    "import tensorflow\n",
    "from tensorflow.keras.utils import to_categorical\n",
    "from keras.models import Sequential\n",
    "from keras.layers import Dense, Flatten, Conv2D, MaxPooling2D, Dropout, Reshape, LSTM\n",
    "\n",
    "# ONE NOT ENCODING\n",
    "\n",
    "train_target = to_categorical(lables)\n",
    "\n",
    "# MODEL LAYERS\n",
    "\n",
    "model = Sequential()\n",
    "# Convolutional Layers\n",
    "model.add(Conv2D(25, kernel_size=(3,3), strides=(1,1), padding='same', activation='relu', input_shape=(200, 200, 1)))\n",
    "\n",
    "model.add(Conv2D(75, kernel_size=(3,3), strides=(1,1), padding='same', activation='relu'))\n",
    "model.add(MaxPooling2D(pool_size=(2,2)))\n",
    "\n",
    "model.add(Flatten())\n",
    "model.add(Reshape((-1, model.output_shape[-1]))) # Reshape the output of the Flatten layer to have a time dimension\n",
    "\n",
    "model.add(LSTM(64, return_sequences=False))\n",
    "model.add(Dense(100, activation='relu'))\n",
    "model.add(Dropout(0.25))\n",
    "model.add(Dense(50, activation='relu'))\n",
    "model.add(Dropout(0.25))\n",
    "model.add(Dense(25, activation='relu'))\n",
    "model.add(Dense(5, activation='softmax'))\n",
    "\n",
    "model.summary()\n"
   ]
  },
  {
   "cell_type": "code",
   "execution_count": null,
   "metadata": {
    "id": "3kNCTCNPOFex"
   },
   "outputs": [],
   "source": [
    "# MODEL COPILE\n",
    "\n",
    "from tensorflow.keras.optimizers import Adam\n",
    "\n",
    "model.compile(Adam(learning_rate = 0.001), loss='categorical_crossentropy', metrics=['accuracy'])"
   ]
  },
  {
   "cell_type": "code",
   "execution_count": null,
   "metadata": {
    "colab": {
     "base_uri": "https://localhost:8080/"
    },
    "id": "-kJBr3wFOKbf",
    "outputId": "1cf1346e-292c-4789-93cd-8a6b31171dac"
   },
   "outputs": [
    {
     "name": "stdout",
     "output_type": "stream",
     "text": [
      "Epoch 1/15\n",
      "44/44 [==============================] - 22s 166ms/step - loss: 1.4470 - accuracy: 0.4383\n",
      "Epoch 2/15\n",
      "44/44 [==============================] - 7s 154ms/step - loss: 1.4280 - accuracy: 0.4475\n",
      "Epoch 3/15\n",
      "44/44 [==============================] - 7s 155ms/step - loss: 1.4222 - accuracy: 0.4475\n",
      "Epoch 4/15\n",
      "44/44 [==============================] - 7s 155ms/step - loss: 1.4215 - accuracy: 0.4475\n",
      "Epoch 5/15\n",
      "44/44 [==============================] - 7s 155ms/step - loss: 1.4215 - accuracy: 0.4475\n",
      "Epoch 6/15\n",
      "44/44 [==============================] - 7s 156ms/step - loss: 1.4182 - accuracy: 0.4475\n",
      "Epoch 7/15\n",
      "44/44 [==============================] - 7s 156ms/step - loss: 1.4247 - accuracy: 0.4475\n",
      "Epoch 8/15\n",
      "44/44 [==============================] - 7s 158ms/step - loss: 1.4178 - accuracy: 0.4475\n",
      "Epoch 9/15\n",
      "44/44 [==============================] - 7s 157ms/step - loss: 1.4182 - accuracy: 0.4475\n",
      "Epoch 10/15\n",
      "44/44 [==============================] - 7s 159ms/step - loss: 1.4207 - accuracy: 0.4475\n",
      "Epoch 11/15\n",
      "44/44 [==============================] - 7s 158ms/step - loss: 1.4139 - accuracy: 0.4475\n",
      "Epoch 12/15\n",
      "44/44 [==============================] - 7s 158ms/step - loss: 1.4176 - accuracy: 0.4475\n",
      "Epoch 13/15\n",
      "44/44 [==============================] - 7s 157ms/step - loss: 1.4160 - accuracy: 0.4475\n",
      "Epoch 14/15\n",
      "44/44 [==============================] - 7s 157ms/step - loss: 1.4183 - accuracy: 0.4475\n",
      "Epoch 15/15\n",
      "44/44 [==============================] - 7s 157ms/step - loss: 1.4172 - accuracy: 0.4475\n"
     ]
    },
    {
     "data": {
      "text/plain": [
       "<keras.callbacks.History at 0x7f88ba07a0d0>"
      ]
     },
     "execution_count": 18,
     "metadata": {},
     "output_type": "execute_result"
    }
   ],
   "source": [
    "model.fit(train_feature, train_target, batch_size = 30, epochs = 15)"
   ]
  },
  {
   "cell_type": "code",
   "execution_count": null,
   "metadata": {
    "colab": {
     "base_uri": "https://localhost:8080/"
    },
    "id": "HAFa3H7fWYb0",
    "outputId": "1fec2d63-f7e4-4828-da48-3128ee2f285f"
   },
   "outputs": [
    {
     "name": "stdout",
     "output_type": "stream",
     "text": [
      "5/5 [==============================] - 1s 135ms/step\n"
     ]
    }
   ],
   "source": [
    "predictions = model.predict(test_features)\n"
   ]
  },
  {
   "cell_type": "code",
   "execution_count": null,
   "metadata": {
    "colab": {
     "base_uri": "https://localhost:8080/"
    },
    "id": "8ShvFxUlWa2v",
    "outputId": "ec420a64-f29f-43c0-a24a-43d966bd1aca"
   },
   "outputs": [
    {
     "name": "stdout",
     "output_type": "stream",
     "text": [
      "Accuracy: 0.46153846153846156\n",
      "Precision: 0.09230769230769231\n",
      "Recall: 0.2\n",
      "F1 Score: 0.12631578947368421\n",
      "Confusion Matrix:\n",
      " [[ 0 19  0  0  0]\n",
      " [ 0 72  0  0  0]\n",
      " [ 0 32  0  0  0]\n",
      " [ 0 10  0  0  0]\n",
      " [ 0 23  0  0  0]]\n"
     ]
    },
    {
     "name": "stderr",
     "output_type": "stream",
     "text": [
      "/usr/local/lib/python3.9/dist-packages/sklearn/metrics/_classification.py:1344: UndefinedMetricWarning: Precision is ill-defined and being set to 0.0 in labels with no predicted samples. Use `zero_division` parameter to control this behavior.\n",
      "  _warn_prf(average, modifier, msg_start, len(result))\n"
     ]
    }
   ],
   "source": [
    "# Accuracy of Our Model #\n",
    "import numpy as np\n",
    "from keras.models import load_model\n",
    "from sklearn.metrics import accuracy_score, precision_score, recall_score, f1_score, confusion_matrix\n",
    "\n",
    "y_true = []\n",
    "y_pred = []\n",
    "for i in range(156) :\n",
    "\n",
    "    predicted_label = np.argmax(predictions[i])\n",
    "    y_true.append(test_target[i])\n",
    "    y_pred.append(predicted_label)\n",
    "\n",
    "accuracy = accuracy_score(y_true, y_pred)\n",
    "precision = precision_score(y_true, y_pred, average='macro')\n",
    "recall = recall_score(y_true, y_pred, average='macro')\n",
    "f1 = f1_score(y_true, y_pred, average='macro')\n",
    "confusion = confusion_matrix(y_true, y_pred)\n",
    "print('Accuracy:', accuracy)\n",
    "print('Precision:', precision)\n",
    "print('Recall:', recall)\n",
    "print('F1 Score:', f1)\n",
    "print('Confusion Matrix:\\n', confusion)\n",
    "     "
   ]
  },
  {
   "cell_type": "code",
   "execution_count": null,
   "metadata": {
    "id": "haYZXl-EWrCl"
   },
   "outputs": [],
   "source": []
  }
 ],
 "metadata": {
  "accelerator": "GPU",
  "colab": {
   "provenance": []
  },
  "gpuClass": "standard",
  "kernelspec": {
   "display_name": "Python 3 (ipykernel)",
   "language": "python",
   "name": "python3"
  },
  "language_info": {
   "codemirror_mode": {
    "name": "ipython",
    "version": 3
   },
   "file_extension": ".py",
   "mimetype": "text/x-python",
   "name": "python",
   "nbconvert_exporter": "python",
   "pygments_lexer": "ipython3",
   "version": "3.9.12"
  }
 },
 "nbformat": 4,
 "nbformat_minor": 1
}
