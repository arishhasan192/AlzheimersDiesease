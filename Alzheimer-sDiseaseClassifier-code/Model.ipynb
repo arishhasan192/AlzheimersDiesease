{
 "cells": [
  {
   "cell_type": "markdown",
   "metadata": {
    "id": "EUV62tmdpsOD"
   },
   "source": [
    "### IMPORT LIBRARIES"
   ]
  },
  {
   "cell_type": "code",
   "execution_count": 1,
   "metadata": {
    "_cell_guid": "79c7e3d0-c299-4dcb-8224-4455121ee9b0",
    "_uuid": "d629ff2d2480ee46fbb7e2d37f6b5fab8052498a",
    "id": "iWDQOZT1psOK"
   },
   "outputs": [],
   "source": [
    "import numpy as np\n",
    "import pandas as pd\n",
    "import matplotlib.pyplot as plt\n",
    "import seaborn as sn\n",
    "import skimage.io\n",
    "import os \n",
    "import tqdm\n",
    "import glob\n",
    "import tensorflow \n",
    "\n",
    "from tqdm import tqdm\n",
    "from sklearn.utils import shuffle\n",
    "from sklearn import metrics\n",
    "\n",
    "from sklearn.metrics import confusion_matrix, classification_report\n",
    "from sklearn.model_selection import train_test_split\n",
    "\n",
    "from skimage.io import imread, imshow\n",
    "from skimage.transform import resize\n",
    "from skimage.color import gray2rgb\n",
    "\n",
    "import tensorflow as tf\n",
    "from tensorflow.keras.preprocessing.image import ImageDataGenerator\n",
    "from tensorflow.keras.preprocessing import image_dataset_from_directory\n",
    "from tensorflow.keras.models import Sequential\n",
    "from tensorflow.keras.models import Model\n",
    "from tensorflow.keras.layers import InputLayer, BatchNormalization, Dropout, Flatten, Dense, Activation, MaxPooling2D, Conv2D\n",
    "from tensorflow.keras.callbacks import EarlyStopping, ModelCheckpoint\n",
    "from tensorflow.keras.applications.resnet50 import ResNet50\n",
    "from tensorflow.keras.utils import to_categorical\n",
    "from keras import optimizers\n",
    "\n",
    "from keras.callbacks import Callback,ModelCheckpoint\n",
    "from keras.models import Sequential,load_model\n",
    "from keras.layers import Dense, Dropout\n",
    "from keras.wrappers.scikit_learn import KerasClassifier\n",
    "import keras.backend as K\n",
    "\n",
    "#import tensorflow_addons as tfa\n",
    "#from tensorflow.keras.metrics import Metric\n",
    "#from tensorflow_addons.utils.types import AcceptableDTypes, FloatTensorLike\n",
    "from typeguard import typechecked\n",
    "from typing import Optional"
   ]
  },
  {
   "cell_type": "code",
   "execution_count": 2,
   "metadata": {
    "id": "tYG57Zc9psON"
   },
   "outputs": [],
   "source": [
    "train_datagen = ImageDataGenerator(rescale = 1./255,\n",
    "                                   validation_split = 0.2,\n",
    "        rotation_range=10,\n",
    "        width_shift_range=0.2,\n",
    "        height_shift_range=0.2,\n",
    "        shear_range=0.2,\n",
    "        zoom_range=0.2,\n",
    "        horizontal_flip=True,\n",
    "        vertical_flip=True,\n",
    "        fill_mode='nearest')\n",
    "\n",
    "valid_datagen = ImageDataGenerator(rescale = 1./255,\n",
    "                                  validation_split = 0.2)\n",
    "\n",
    "test_datagen  = ImageDataGenerator(rescale = 1./255\n",
    "                                  )"
   ]
  },
  {
   "cell_type": "code",
   "execution_count": 4,
   "metadata": {
    "colab": {
     "base_uri": "https://localhost:8080/"
    },
    "id": "tYu621TZpsOQ",
    "outputId": "9cc60bef-9924-4ecc-8714-533ae79f42ec"
   },
   "outputs": [
    {
     "name": "stdout",
     "output_type": "stream",
     "text": [
      "Found 4098 images belonging to 4 classes.\n"
     ]
    }
   ],
   "source": [
    "                                                                   \n",
    "\n",
    "train_dataset  = train_datagen.flow_from_directory(directory = 'Alzheimer_s Dataset/train',\n",
    "                                                   target_size = (224,224),\n",
    "                                                   class_mode = 'categorical',\n",
    "                                                   subset = 'training',\n",
    "                                                   batch_size = 32)"
   ]
  },
  {
   "cell_type": "code",
   "execution_count": 5,
   "metadata": {
    "colab": {
     "base_uri": "https://localhost:8080/"
    },
    "id": "LYrJ95X6psOS",
    "outputId": "8c0fd356-0fe5-47a4-d6c6-672a2b6521d2"
   },
   "outputs": [
    {
     "name": "stdout",
     "output_type": "stream",
     "text": [
      "Found 1023 images belonging to 4 classes.\n"
     ]
    }
   ],
   "source": [
    "                                                                \n",
    "valid_dataset = valid_datagen.flow_from_directory(directory = 'Alzheimer_s Dataset/train',\n",
    "                                                  target_size = (224,224),\n",
    "                                                  class_mode = 'categorical',\n",
    "                                                  subset = 'validation',\n",
    "                                                  batch_size = 32)"
   ]
  },
  {
   "cell_type": "code",
   "execution_count": 6,
   "metadata": {
    "colab": {
     "base_uri": "https://localhost:8080/"
    },
    "id": "-JvGNq9dpsOS",
    "outputId": "2b25b7e0-2d4f-42fe-ffa7-1464c01cf329"
   },
   "outputs": [
    {
     "name": "stdout",
     "output_type": "stream",
     "text": [
      "Found 1279 images belonging to 4 classes.\n"
     ]
    }
   ],
   "source": [
    " \n",
    "\n",
    "test_dataset = test_datagen.flow_from_directory(directory = 'Alzheimer_s Dataset/test',\n",
    "                                                  target_size = (224,224),\n",
    "                                                  class_mode = 'categorical',\n",
    "                                                  batch_size = 32)"
   ]
  },
  {
   "cell_type": "markdown",
   "metadata": {
    "id": "EZDuN3a6psOU"
   },
   "source": [
    "### MODEL BUILDING"
   ]
  },
  {
   "cell_type": "code",
   "execution_count": 7,
   "metadata": {
    "id": "bxs9MPyjpsOU"
   },
   "outputs": [],
   "source": [
    "model = Sequential()\n",
    "model.add(Conv2D(25, kernel_size = (3,3), strides = (1,1), padding = 'same', activation = 'relu', input_shape = (224, 224, 3)))\n",
    "model.add(MaxPooling2D(pool_size = (2,2)))\n",
    "model.add(Conv2D(75, kernel_size = (3,3), strides = (1,1), padding = 'same', activation = 'relu'))\n",
    "model.add(MaxPooling2D(pool_size = (2,2)))\n",
    "model.add(Flatten(input_shape=(224,224,3)))\n",
    "model.add(Dense(units=4, activation='relu'))\n",
    "model.add(Dense(units=8, activation='relu'))\n",
    "model.add(Dense(units=16, activation='relu'))\n",
    "model.add(Dense(4,activation='softmax'))"
   ]
  },
  {
   "cell_type": "code",
   "execution_count": 8,
   "metadata": {
    "colab": {
     "base_uri": "https://localhost:8080/"
    },
    "id": "4URK_EPfpsOU",
    "outputId": "3aad8a8b-6322-4300-b034-64b72ac0f420"
   },
   "outputs": [
    {
     "name": "stdout",
     "output_type": "stream",
     "text": [
      "Model: \"sequential\"\n",
      "_________________________________________________________________\n",
      " Layer (type)                Output Shape              Param #   \n",
      "=================================================================\n",
      " conv2d (Conv2D)             (None, 224, 224, 25)      700       \n",
      "                                                                 \n",
      " max_pooling2d (MaxPooling2D  (None, 112, 112, 25)     0         \n",
      " )                                                               \n",
      "                                                                 \n",
      " conv2d_1 (Conv2D)           (None, 112, 112, 75)      16950     \n",
      "                                                                 \n",
      " max_pooling2d_1 (MaxPooling  (None, 56, 56, 75)       0         \n",
      " 2D)                                                             \n",
      "                                                                 \n",
      " flatten (Flatten)           (None, 235200)            0         \n",
      "                                                                 \n",
      " dense (Dense)               (None, 4)                 940804    \n",
      "                                                                 \n",
      " dense_1 (Dense)             (None, 8)                 40        \n",
      "                                                                 \n",
      " dense_2 (Dense)             (None, 16)                144       \n",
      "                                                                 \n",
      " dense_3 (Dense)             (None, 4)                 68        \n",
      "                                                                 \n",
      "=================================================================\n",
      "Total params: 958,706\n",
      "Trainable params: 958,706\n",
      "Non-trainable params: 0\n",
      "_________________________________________________________________\n"
     ]
    }
   ],
   "source": [
    "model.summary()"
   ]
  },
  {
   "cell_type": "code",
   "execution_count": 9,
   "metadata": {
    "id": "joXENYPLpsOV"
   },
   "outputs": [],
   "source": [
    "def f1_score(y_true, y_pred): #taken from old keras source code\n",
    "    true_positives = K.sum(K.round(K.clip(y_true * y_pred, 0, 1)))\n",
    "    possible_positives = K.sum(K.round(K.clip(y_true, 0, 1)))\n",
    "    predicted_positives = K.sum(K.round(K.clip(y_pred, 0, 1)))\n",
    "    precision = true_positives / (predicted_positives + K.epsilon())\n",
    "    recall = true_positives / (possible_positives + K.epsilon())\n",
    "    f1_val = 2*(precision*recall)/(precision+recall+K.epsilon())\n",
    "    return f1_val"
   ]
  },
  {
   "cell_type": "code",
   "execution_count": 10,
   "metadata": {
    "id": "5ajkrQn4psOV"
   },
   "outputs": [],
   "source": [
    "METRICS = [\n",
    "      tf.keras.metrics.BinaryAccuracy(name='accuracy'),\n",
    "      tf.keras.metrics.Precision(name='precision'),\n",
    "      tf.keras.metrics.Recall(name='recall'),  \n",
    "      tf.keras.metrics.AUC(name='auc'),\n",
    "        f1_score,\n",
    "]"
   ]
  },
  {
   "cell_type": "code",
   "execution_count": 11,
   "metadata": {
    "id": "QQtomRTfpsOV"
   },
   "outputs": [],
   "source": [
    "def exponential_decay(lr0, s):\n",
    "    def exponential_decay_fn(epoch):\n",
    "        return lr0 * 0.1 **(epoch / s)\n",
    "    return exponential_decay_fn\n",
    "\n",
    "exponential_decay_fn = exponential_decay(0.01, 5) # when i run it for 50 epochs\n",
    "\n",
    "lr_scheduler = tf.keras.callbacks.LearningRateScheduler(exponential_decay_fn)"
   ]
  },
  {
   "cell_type": "code",
   "execution_count": 12,
   "metadata": {
    "id": "z5eAaQljpsOW"
   },
   "outputs": [],
   "source": [
    "model.compile(optimizer=tf.keras.optimizers.Adam(\n",
    "    learning_rate=0.001, beta_1=0.9, beta_2=0.999, epsilon=1e-07, amsgrad=False,\n",
    "    name='Adam',), loss='categorical_crossentropy',metrics=METRICS)"
   ]
  },
  {
   "cell_type": "code",
   "execution_count": 14,
   "metadata": {
    "colab": {
     "base_uri": "https://localhost:8080/"
    },
    "id": "gEfjc26MpsOW",
    "outputId": "1fc96789-20ff-4ce1-875e-28ec79baf21f"
   },
   "outputs": [
    {
     "name": "stdout",
     "output_type": "stream",
     "text": [
      "Epoch 1/20\n",
      "129/129 [==============================] - 144s 1s/step - loss: 1.0428 - accuracy: 0.7505 - precision: 0.5024 - recall: 0.2003 - auc: 0.7806 - f1_score: 0.2062 - val_loss: 1.0373 - val_accuracy: 0.7500 - val_precision: 0.0000e+00 - val_recall: 0.0000e+00 - val_auc: 0.7804 - val_f1_score: 0.0000e+00\n",
      "Epoch 2/20\n",
      "129/129 [==============================] - 151s 1s/step - loss: 1.0399 - accuracy: 0.7518 - precision: 0.5102 - recall: 0.1835 - auc: 0.7798 - f1_score: 0.1822 - val_loss: 1.0350 - val_accuracy: 0.7502 - val_precision: 0.5005 - val_recall: 0.5005 - val_auc: 0.7804 - val_f1_score: 0.5005\n",
      "Epoch 3/20\n",
      "129/129 [==============================] - 152s 1s/step - loss: 1.0393 - accuracy: 0.7478 - precision: 0.4925 - recall: 0.2884 - auc: 0.7778 - f1_score: 0.2863 - val_loss: 1.0349 - val_accuracy: 0.7500 - val_precision: 0.0000e+00 - val_recall: 0.0000e+00 - val_auc: 0.7804 - val_f1_score: 0.0000e+00\n",
      "Epoch 4/20\n",
      "129/129 [==============================] - 145s 1s/step - loss: 1.0378 - accuracy: 0.7538 - precision: 0.5194 - recall: 0.2028 - auc: 0.7812 - f1_score: 0.2013 - val_loss: 1.0397 - val_accuracy: 0.7502 - val_precision: 0.5005 - val_recall: 0.5005 - val_auc: 0.7804 - val_f1_score: 0.5004\n",
      "Epoch 5/20\n",
      "129/129 [==============================] - 145s 1s/step - loss: 1.0416 - accuracy: 0.7504 - precision: 0.5015 - recall: 0.2391 - auc: 0.7801 - f1_score: 0.2410 - val_loss: 1.0370 - val_accuracy: 0.7502 - val_precision: 0.5005 - val_recall: 0.5005 - val_auc: 0.7804 - val_f1_score: 0.5008\n",
      "Epoch 6/20\n",
      "129/129 [==============================] - 146s 1s/step - loss: 1.0391 - accuracy: 0.7548 - precision: 0.5179 - recall: 0.2750 - auc: 0.7809 - f1_score: 0.2730 - val_loss: 1.0347 - val_accuracy: 0.7502 - val_precision: 0.5005 - val_recall: 0.5005 - val_auc: 0.7804 - val_f1_score: 0.5006\n",
      "Epoch 7/20\n",
      "129/129 [==============================] - 145s 1s/step - loss: 1.0407 - accuracy: 0.7455 - precision: 0.4846 - recall: 0.2838 - auc: 0.7749 - f1_score: 0.2817 - val_loss: 1.0363 - val_accuracy: 0.7502 - val_precision: 0.5005 - val_recall: 0.5005 - val_auc: 0.7804 - val_f1_score: 0.5004\n",
      "Epoch 8/20\n",
      "129/129 [==============================] - 145s 1s/step - loss: 1.0391 - accuracy: 0.7502 - precision: 0.5009 - recall: 0.2660 - auc: 0.7780 - f1_score: 0.2641 - val_loss: 1.0369 - val_accuracy: 0.7502 - val_precision: 0.5005 - val_recall: 0.5005 - val_auc: 0.7804 - val_f1_score: 0.5005\n",
      "Epoch 9/20\n",
      "129/129 [==============================] - 146s 1s/step - loss: 1.0384 - accuracy: 0.7500 - precision: 0.5000 - recall: 0.2189 - auc: 0.7791 - f1_score: 0.2173 - val_loss: 1.0347 - val_accuracy: 0.7500 - val_precision: 0.0000e+00 - val_recall: 0.0000e+00 - val_auc: 0.7804 - val_f1_score: 0.0000e+00\n",
      "Epoch 10/20\n",
      "129/129 [==============================] - 146s 1s/step - loss: 1.0394 - accuracy: 0.7478 - precision: 0.4872 - recall: 0.1674 - auc: 0.7776 - f1_score: 0.1662 - val_loss: 1.0354 - val_accuracy: 0.7500 - val_precision: 0.0000e+00 - val_recall: 0.0000e+00 - val_auc: 0.7804 - val_f1_score: 0.0000e+00\n",
      "Epoch 11/20\n",
      "129/129 [==============================] - 146s 1s/step - loss: 1.0385 - accuracy: 0.7520 - precision: 0.5094 - recall: 0.2111 - auc: 0.7805 - f1_score: 0.2095 - val_loss: 1.0354 - val_accuracy: 0.7500 - val_precision: 0.0000e+00 - val_recall: 0.0000e+00 - val_auc: 0.7804 - val_f1_score: 0.0000e+00\n",
      "Epoch 12/20\n",
      "129/129 [==============================] - 145s 1s/step - loss: 1.0395 - accuracy: 0.7496 - precision: 0.4984 - recall: 0.2221 - auc: 0.7784 - f1_score: 0.2241 - val_loss: 1.0346 - val_accuracy: 0.7500 - val_precision: 0.0000e+00 - val_recall: 0.0000e+00 - val_auc: 0.7804 - val_f1_score: 0.0000e+00\n",
      "Epoch 13/20\n",
      "129/129 [==============================] - 145s 1s/step - loss: 1.0393 - accuracy: 0.7498 - precision: 0.4987 - recall: 0.1869 - auc: 0.7790 - f1_score: 0.1856 - val_loss: 1.0377 - val_accuracy: 0.7500 - val_precision: 0.0000e+00 - val_recall: 0.0000e+00 - val_auc: 0.7804 - val_f1_score: 0.0000e+00\n",
      "Epoch 14/20\n",
      "129/129 [==============================] - 145s 1s/step - loss: 1.0403 - accuracy: 0.7468 - precision: 0.4882 - recall: 0.2631 - auc: 0.7758 - f1_score: 0.2611 - val_loss: 1.0344 - val_accuracy: 0.7500 - val_precision: 0.0000e+00 - val_recall: 0.0000e+00 - val_auc: 0.7804 - val_f1_score: 0.0000e+00\n",
      "Epoch 15/20\n",
      "129/129 [==============================] - 146s 1s/step - loss: 1.0366 - accuracy: 0.7544 - precision: 0.5239 - recall: 0.1923 - auc: 0.7827 - f1_score: 0.1909 - val_loss: 1.0354 - val_accuracy: 0.7502 - val_precision: 0.5005 - val_recall: 0.5005 - val_auc: 0.7804 - val_f1_score: 0.5005\n",
      "Epoch 16/20\n",
      "129/129 [==============================] - 145s 1s/step - loss: 1.0390 - accuracy: 0.7521 - precision: 0.5082 - recall: 0.2582 - auc: 0.7788 - f1_score: 0.2563 - val_loss: 1.0347 - val_accuracy: 0.7500 - val_precision: 0.0000e+00 - val_recall: 0.0000e+00 - val_auc: 0.7804 - val_f1_score: 0.0000e+00\n",
      "Epoch 17/20\n",
      "129/129 [==============================] - 148s 1s/step - loss: 1.0383 - accuracy: 0.7507 - precision: 0.5027 - recall: 0.2750 - auc: 0.7781 - f1_score: 0.2803 - val_loss: 1.0353 - val_accuracy: 0.7500 - val_precision: 0.0000e+00 - val_recall: 0.0000e+00 - val_auc: 0.7804 - val_f1_score: 0.0000e+00\n",
      "Epoch 18/20\n",
      "129/129 [==============================] - 145s 1s/step - loss: 1.0399 - accuracy: 0.7462 - precision: 0.4830 - recall: 0.2150 - auc: 0.7768 - f1_score: 0.2134 - val_loss: 1.0347 - val_accuracy: 0.7502 - val_precision: 0.5005 - val_recall: 0.5005 - val_auc: 0.7804 - val_f1_score: 0.5004\n",
      "Epoch 19/20\n",
      "129/129 [==============================] - 146s 1s/step - loss: 1.0391 - accuracy: 0.7456 - precision: 0.4852 - recall: 0.2882 - auc: 0.7754 - f1_score: 0.2934 - val_loss: 1.0349 - val_accuracy: 0.7500 - val_precision: 0.0000e+00 - val_recall: 0.0000e+00 - val_auc: 0.7804 - val_f1_score: 0.0000e+00\n",
      "Epoch 20/20\n",
      "129/129 [==============================] - 147s 1s/step - loss: 1.0389 - accuracy: 0.7510 - precision: 0.5040 - recall: 0.2479 - auc: 0.7800 - f1_score: 0.2461 - val_loss: 1.0346 - val_accuracy: 0.7502 - val_precision: 0.5005 - val_recall: 0.5005 - val_auc: 0.7804 - val_f1_score: 0.5004\n"
     ]
    }
   ],
   "source": [
    "history=model.fit(train_dataset,\n",
    "                        validation_data=valid_dataset,\n",
    "                        epochs = 20,\n",
    "                        verbose = 1\n",
    "                          )"
   ]
  },
  {
   "cell_type": "code",
   "execution_count": 15,
   "metadata": {
    "colab": {
     "base_uri": "https://localhost:8080/"
    },
    "id": "HM4-TagPpsOX",
    "outputId": "7b862bd7-0667-4bf1-cd33-7f876d8e6110"
   },
   "outputs": [
    {
     "name": "stdout",
     "output_type": "stream",
     "text": [
      "40/40 [==============================] - 11s 274ms/step - loss: 1.0335 - accuracy: 0.7502 - precision: 0.5004 - recall: 0.5004 - auc: 0.7806 - f1_score: 0.5003\n"
     ]
    }
   ],
   "source": [
    "scores = model.evaluate(test_dataset)"
   ]
  },
  {
   "cell_type": "code",
   "execution_count": 16,
   "metadata": {
    "colab": {
     "base_uri": "https://localhost:8080/"
    },
    "id": "Vu0MQgTupsOX",
    "outputId": "43383535-4d33-4179-b8fe-043dfcdf9fe4"
   },
   "outputs": [
    {
     "name": "stdout",
     "output_type": "stream",
     "text": [
      "Accuracy =  0.7501954436302185\n",
      "Precision =  0.5003909468650818\n",
      "Recall =  0.5003909468650818\n",
      "AUC =  0.7805577516555786\n",
      "F1_score =  0.5003275871276855\n"
     ]
    }
   ],
   "source": [
    "print(\"Accuracy = \", scores[1])\n",
    "print(\"Precision = \", scores[2])\n",
    "print(\"Recall = \", scores[3])\n",
    "print(\"AUC = \", scores[4])\n",
    "print(\"F1_score = \", scores[5])"
   ]
  }
 ],
 "metadata": {
  "accelerator": "GPU",
  "colab": {
   "provenance": []
  },
  "gpuClass": "standard",
  "kernelspec": {
   "display_name": "Python 3 (ipykernel)",
   "language": "python",
   "name": "python3"
  },
  "language_info": {
   "codemirror_mode": {
    "name": "ipython",
    "version": 3
   },
   "file_extension": ".py",
   "mimetype": "text/x-python",
   "name": "python",
   "nbconvert_exporter": "python",
   "pygments_lexer": "ipython3",
   "version": "3.10.9"
  }
 },
 "nbformat": 4,
 "nbformat_minor": 1
}
