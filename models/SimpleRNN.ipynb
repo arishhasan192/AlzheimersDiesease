{
 "cells": [
  {
   "cell_type": "markdown",
   "metadata": {
    "id": "EUV62tmdpsOD"
   },
   "source": [
    "### IMPORT LIBRARIES"
   ]
  },
  {
   "cell_type": "code",
   "execution_count": 1,
   "metadata": {
    "colab": {
     "base_uri": "https://localhost:8080/"
    },
    "id": "C00P-97V3g-r",
    "outputId": "291e24b6-cebe-41ad-876a-14adb92eabfd"
   },
   "outputs": [
    {
     "name": "stdout",
     "output_type": "stream",
     "text": [
      "Requirement already satisfied: typeguard in c:\\users\\ahmar\\anaconda3\\lib\\site-packages (3.0.2)\n",
      "Requirement already satisfied: typing-extensions>=4.4.0 in c:\\users\\ahmar\\anaconda3\\lib\\site-packages (from typeguard) (4.4.0)\n"
     ]
    }
   ],
   "source": [
    "!pip install typeguard\n"
   ]
  },
  {
   "cell_type": "code",
   "execution_count": 2,
   "metadata": {
    "_cell_guid": "79c7e3d0-c299-4dcb-8224-4455121ee9b0",
    "_uuid": "d629ff2d2480ee46fbb7e2d37f6b5fab8052498a",
    "id": "iWDQOZT1psOK"
   },
   "outputs": [],
   "source": [
    "import numpy as np\n",
    "import pandas as pd\n",
    "import matplotlib.pyplot as plt\n",
    "import seaborn as sn\n",
    "import skimage.io\n",
    "import os \n",
    "import tqdm\n",
    "import glob\n",
    "import tensorflow \n",
    "\n",
    "from tqdm import tqdm\n",
    "from sklearn.utils import shuffle\n",
    "from sklearn import metrics\n",
    "\n",
    "from sklearn.metrics import confusion_matrix, classification_report\n",
    "from sklearn.model_selection import train_test_split\n",
    "\n",
    "from skimage.io import imread, imshow\n",
    "from skimage.transform import resize\n",
    "from skimage.color import gray2rgb\n",
    "\n",
    "import tensorflow as tf\n",
    "from tensorflow.keras.preprocessing.image import ImageDataGenerator\n",
    "from tensorflow.keras.preprocessing import image_dataset_from_directory\n",
    "from tensorflow.keras.models import Sequential\n",
    "from tensorflow.keras.models import Model\n",
    "from tensorflow.keras.layers import InputLayer, BatchNormalization, Dropout, Flatten, Dense, Activation, MaxPooling2D, Conv2D,SimpleRNN,Reshape\n",
    "from tensorflow.keras.callbacks import EarlyStopping, ModelCheckpoint\n",
    "from tensorflow.keras.applications.resnet50 import ResNet50\n",
    "from tensorflow.keras.utils import to_categorical\n",
    "from keras import optimizers\n",
    "\n",
    "from keras.callbacks import Callback,ModelCheckpoint\n",
    "from keras.models import Sequential,load_model\n",
    "from keras.layers import Dense, Dropout\n",
    "from keras.wrappers.scikit_learn import KerasClassifier\n",
    "import keras.backend as K\n",
    "\n",
    "#import tensorflow_addons as tfa\n",
    "#from tensorflow.keras.metrics import Metric\n",
    "#from tensorflow_addons.utils.types import AcceptableDTypes, FloatTensorLike\n",
    "from typeguard import typechecked\n",
    "from typing import Optional"
   ]
  },
  {
   "cell_type": "code",
   "execution_count": 3,
   "metadata": {
    "id": "tYG57Zc9psON"
   },
   "outputs": [],
   "source": [
    "train_datagen = ImageDataGenerator(rescale = 1./255,\n",
    "                                   validation_split = 0.2,\n",
    "        rotation_range=10,\n",
    "        width_shift_range=0.2,\n",
    "        height_shift_range=0.2,\n",
    "        shear_range=0.2,\n",
    "        zoom_range=0.2,\n",
    "        horizontal_flip=True,\n",
    "        vertical_flip=True,\n",
    "        fill_mode='nearest')\n",
    "\n",
    "valid_datagen = ImageDataGenerator(rescale = 1./255,\n",
    "                                  validation_split = 0.2)\n",
    "\n",
    "test_datagen  = ImageDataGenerator(rescale = 1./255\n",
    "                                  )"
   ]
  },
  {
   "cell_type": "code",
   "execution_count": 6,
   "metadata": {
    "colab": {
     "base_uri": "https://localhost:8080/"
    },
    "id": "tYu621TZpsOQ",
    "outputId": "ee8fe0fa-e1d8-4d37-d94e-cd21e3fec152"
   },
   "outputs": [
    {
     "name": "stdout",
     "output_type": "stream",
     "text": [
      "Found 4098 images belonging to 4 classes.\n"
     ]
    }
   ],
   "source": [
    "                                                                     \n",
    "train_dataset  = train_datagen.flow_from_directory(directory = 'Alzheimer_s Dataset/train',\n",
    "                                                   target_size = (224,224),\n",
    "                                                   class_mode = 'categorical',\n",
    "                                                   subset = 'training',\n",
    "                                                   batch_size = 32)"
   ]
  },
  {
   "cell_type": "code",
   "execution_count": 7,
   "metadata": {
    "colab": {
     "base_uri": "https://localhost:8080/"
    },
    "id": "LYrJ95X6psOS",
    "outputId": "6b7899e7-27b9-467f-b109-69577f1fde5c"
   },
   "outputs": [
    {
     "name": "stdout",
     "output_type": "stream",
     "text": [
      "Found 1023 images belonging to 4 classes.\n"
     ]
    }
   ],
   "source": [
    "                                                                        \n",
    "valid_dataset = valid_datagen.flow_from_directory(directory = 'Alzheimer_s Dataset/train',\n",
    "                                                  target_size = (224,224),\n",
    "                                                  class_mode = 'categorical',\n",
    "                                                  subset = 'validation',\n",
    "                                                  batch_size = 32)"
   ]
  },
  {
   "cell_type": "code",
   "execution_count": 8,
   "metadata": {
    "colab": {
     "base_uri": "https://localhost:8080/"
    },
    "id": "-JvGNq9dpsOS",
    "outputId": "725d8387-6c4d-4ccf-90bc-768b54e58c08"
   },
   "outputs": [
    {
     "name": "stdout",
     "output_type": "stream",
     "text": [
      "Found 1279 images belonging to 4 classes.\n"
     ]
    }
   ],
   "source": [
    "\n",
    "\n",
    "test_dataset = test_datagen.flow_from_directory(directory = 'Alzheimer_s Dataset/test',\n",
    "                                                  target_size = (224,224),\n",
    "                                                  class_mode = 'categorical',\n",
    "                                                  batch_size = 32)"
   ]
  },
  {
   "cell_type": "markdown",
   "metadata": {
    "id": "EZDuN3a6psOU"
   },
   "source": [
    "### MODEL BUILDING"
   ]
  },
  {
   "cell_type": "code",
   "execution_count": null,
   "metadata": {
    "id": "Qh3Ep5T6eu4K"
   },
   "outputs": [],
   "source": []
  },
  {
   "cell_type": "code",
   "execution_count": 9,
   "metadata": {
    "id": "bxs9MPyjpsOU"
   },
   "outputs": [],
   "source": [
    "model = Sequential()\n",
    "model.add(Reshape((224, 224*3), input_shape=(224, 224, 3)))\n",
    "model.add(SimpleRNN(64))\n",
    "model.add(Dense(units=8, activation='relu'))\n",
    "model.add(Dense(units=16, activation='relu'))\n",
    "model.add(Dense(units=32, activation='relu'))\n",
    "model.add(Dense(4,activation='softmax'))\n"
   ]
  },
  {
   "cell_type": "code",
   "execution_count": 10,
   "metadata": {
    "colab": {
     "base_uri": "https://localhost:8080/"
    },
    "id": "4URK_EPfpsOU",
    "outputId": "61a2b097-e5b8-4ea3-817d-cf676e8cbf1b"
   },
   "outputs": [
    {
     "name": "stdout",
     "output_type": "stream",
     "text": [
      "Model: \"sequential\"\n",
      "_________________________________________________________________\n",
      " Layer (type)                Output Shape              Param #   \n",
      "=================================================================\n",
      " reshape (Reshape)           (None, 224, 672)          0         \n",
      "                                                                 \n",
      " simple_rnn (SimpleRNN)      (None, 64)                47168     \n",
      "                                                                 \n",
      " dense (Dense)               (None, 8)                 520       \n",
      "                                                                 \n",
      " dense_1 (Dense)             (None, 16)                144       \n",
      "                                                                 \n",
      " dense_2 (Dense)             (None, 32)                544       \n",
      "                                                                 \n",
      " dense_3 (Dense)             (None, 4)                 132       \n",
      "                                                                 \n",
      "=================================================================\n",
      "Total params: 48,508\n",
      "Trainable params: 48,508\n",
      "Non-trainable params: 0\n",
      "_________________________________________________________________\n"
     ]
    }
   ],
   "source": [
    "model.summary()"
   ]
  },
  {
   "cell_type": "code",
   "execution_count": 11,
   "metadata": {
    "id": "joXENYPLpsOV"
   },
   "outputs": [],
   "source": [
    "def f1_score(y_true, y_pred): #taken from old keras source code\n",
    "    true_positives = K.sum(K.round(K.clip(y_true * y_pred, 0, 1)))\n",
    "    possible_positives = K.sum(K.round(K.clip(y_true, 0, 1)))\n",
    "    predicted_positives = K.sum(K.round(K.clip(y_pred, 0, 1)))\n",
    "    precision = true_positives / (predicted_positives + K.epsilon())\n",
    "    recall = true_positives / (possible_positives + K.epsilon())\n",
    "    f1_val = 2*(precision*recall)/(precision+recall+K.epsilon())\n",
    "    return f1_val"
   ]
  },
  {
   "cell_type": "code",
   "execution_count": 12,
   "metadata": {
    "id": "5ajkrQn4psOV"
   },
   "outputs": [],
   "source": [
    "METRICS = [\n",
    "      tf.keras.metrics.BinaryAccuracy(name='accuracy'),\n",
    "      tf.keras.metrics.Precision(name='precision'),\n",
    "      tf.keras.metrics.Recall(name='recall'),  \n",
    "      tf.keras.metrics.AUC(name='auc'),\n",
    "        f1_score,\n",
    "]"
   ]
  },
  {
   "cell_type": "code",
   "execution_count": 13,
   "metadata": {
    "id": "QQtomRTfpsOV"
   },
   "outputs": [],
   "source": [
    "def exponential_decay(lr0, s):\n",
    "    def exponential_decay_fn(epoch):\n",
    "        return lr0 * 0.1 **(epoch / s)\n",
    "    return exponential_decay_fn\n",
    "\n",
    "exponential_decay_fn = exponential_decay(0.01, 5) # when i run it for 50 epochs\n",
    "\n",
    "lr_scheduler = tf.keras.callbacks.LearningRateScheduler(exponential_decay_fn)"
   ]
  },
  {
   "cell_type": "code",
   "execution_count": 14,
   "metadata": {
    "id": "z5eAaQljpsOW"
   },
   "outputs": [],
   "source": [
    "model.compile(optimizer=tf.keras.optimizers.Adam(\n",
    "    learning_rate=0.001, beta_1=0.9, beta_2=0.999, epsilon=1e-07, amsgrad=False,\n",
    "    name='Adam',), loss='categorical_crossentropy',metrics=METRICS)"
   ]
  },
  {
   "cell_type": "code",
   "execution_count": 15,
   "metadata": {
    "colab": {
     "base_uri": "https://localhost:8080/"
    },
    "id": "gEfjc26MpsOW",
    "outputId": "724e123f-a69e-47ef-8794-bc5fab149c0c"
   },
   "outputs": [
    {
     "name": "stdout",
     "output_type": "stream",
     "text": [
      "Epoch 1/20\n",
      "129/129 [==============================] - 63s 476ms/step - loss: 1.0685 - accuracy: 0.7514 - precision: 0.5063 - recall: 0.2257 - auc: 0.7739 - f1_score: 0.2706 - val_loss: 1.0476 - val_accuracy: 0.7419 - val_precision: 0.3988 - val_recall: 0.0635 - val_auc: 0.7748 - val_f1_score: 0.1067 - lr: 0.0100\n",
      "Epoch 2/20\n",
      "129/129 [==============================] - 52s 404ms/step - loss: 1.0461 - accuracy: 0.7526 - precision: 0.5117 - recall: 0.2250 - auc: 0.7805 - f1_score: 0.2581 - val_loss: 1.0396 - val_accuracy: 0.7502 - val_precision: 0.5005 - val_recall: 0.5005 - val_auc: 0.7845 - val_f1_score: 0.5005 - lr: 0.0063\n",
      "Epoch 3/20\n",
      "129/129 [==============================] - 52s 401ms/step - loss: 1.0429 - accuracy: 0.7502 - precision: 0.5012 - recall: 0.2123 - auc: 0.7797 - f1_score: 0.2601 - val_loss: 1.0552 - val_accuracy: 0.7419 - val_precision: 0.3398 - val_recall: 0.0342 - val_auc: 0.7750 - val_f1_score: 0.0617 - lr: 0.0040\n",
      "Epoch 4/20\n",
      "129/129 [==============================] - 52s 401ms/step - loss: 1.0412 - accuracy: 0.7460 - precision: 0.4816 - recall: 0.2072 - auc: 0.7795 - f1_score: 0.2458 - val_loss: 1.0366 - val_accuracy: 0.7502 - val_precision: 0.5385 - val_recall: 0.0068 - val_auc: 0.7803 - val_f1_score: 0.0133 - lr: 0.0025\n",
      "Epoch 5/20\n",
      "129/129 [==============================] - 51s 396ms/step - loss: 1.0393 - accuracy: 0.7520 - precision: 0.5074 - recall: 0.2694 - auc: 0.7799 - f1_score: 0.3109 - val_loss: 1.0402 - val_accuracy: 0.7419 - val_precision: 0.3333 - val_recall: 0.0323 - val_auc: 0.7752 - val_f1_score: 0.0578 - lr: 0.0016\n",
      "Epoch 6/20\n",
      "129/129 [==============================] - 51s 400ms/step - loss: 1.0391 - accuracy: 0.7490 - precision: 0.4952 - recall: 0.2160 - auc: 0.7775 - f1_score: 0.2704 - val_loss: 1.0369 - val_accuracy: 0.7502 - val_precision: 0.5005 - val_recall: 0.5005 - val_auc: 0.7838 - val_f1_score: 0.5005 - lr: 0.0010\n",
      "Epoch 7/20\n",
      "129/129 [==============================] - 52s 401ms/step - loss: 1.0386 - accuracy: 0.7479 - precision: 0.4913 - recall: 0.2345 - auc: 0.7780 - f1_score: 0.2565 - val_loss: 1.0345 - val_accuracy: 0.7588 - val_precision: 0.5199 - val_recall: 0.4594 - val_auc: 0.7833 - val_f1_score: 0.4868 - lr: 6.3096e-04\n",
      "Epoch 8/20\n",
      "129/129 [==============================] - 51s 397ms/step - loss: 1.0375 - accuracy: 0.7502 - precision: 0.5006 - recall: 0.3231 - auc: 0.7776 - f1_score: 0.3873 - val_loss: 1.0346 - val_accuracy: 0.7568 - val_precision: 0.5151 - val_recall: 0.4682 - val_auc: 0.7823 - val_f1_score: 0.4899 - lr: 3.9811e-04\n",
      "Epoch 9/20\n",
      "129/129 [==============================] - 52s 399ms/step - loss: 1.0381 - accuracy: 0.7449 - precision: 0.4812 - recall: 0.2628 - auc: 0.7751 - f1_score: 0.3344 - val_loss: 1.0341 - val_accuracy: 0.7500 - val_precision: 0.0000e+00 - val_recall: 0.0000e+00 - val_auc: 0.7852 - val_f1_score: 0.0000e+00 - lr: 2.5119e-04\n",
      "Epoch 10/20\n",
      "129/129 [==============================] - 51s 396ms/step - loss: 1.0371 - accuracy: 0.7493 - precision: 0.4975 - recall: 0.2684 - auc: 0.7793 - f1_score: 0.3408 - val_loss: 1.0341 - val_accuracy: 0.7498 - val_precision: 0.0000e+00 - val_recall: 0.0000e+00 - val_auc: 0.7850 - val_f1_score: 0.0000e+00 - lr: 1.5849e-04\n",
      "Epoch 11/20\n",
      "129/129 [==============================] - 51s 395ms/step - loss: 1.0366 - accuracy: 0.7497 - precision: 0.4987 - recall: 0.2384 - auc: 0.7793 - f1_score: 0.3096 - val_loss: 1.0342 - val_accuracy: 0.7500 - val_precision: 0.0000e+00 - val_recall: 0.0000e+00 - val_auc: 0.7839 - val_f1_score: 0.0000e+00 - lr: 1.0000e-04\n",
      "Epoch 12/20\n",
      "129/129 [==============================] - 51s 396ms/step - loss: 1.0369 - accuracy: 0.7498 - precision: 0.4988 - recall: 0.1981 - auc: 0.7801 - f1_score: 0.2793 - val_loss: 1.0342 - val_accuracy: 0.7498 - val_precision: 0.0000e+00 - val_recall: 0.0000e+00 - val_auc: 0.7825 - val_f1_score: 0.0000e+00 - lr: 6.3096e-05\n",
      "Epoch 13/20\n",
      "129/129 [==============================] - 51s 396ms/step - loss: 1.0370 - accuracy: 0.7496 - precision: 0.4982 - recall: 0.2367 - auc: 0.7796 - f1_score: 0.3206 - val_loss: 1.0342 - val_accuracy: 0.7498 - val_precision: 0.0000e+00 - val_recall: 0.0000e+00 - val_auc: 0.7850 - val_f1_score: 0.0000e+00 - lr: 3.9811e-05\n",
      "Epoch 14/20\n",
      "129/129 [==============================] - 51s 397ms/step - loss: 1.0364 - accuracy: 0.7500 - precision: 0.5000 - recall: 0.2360 - auc: 0.7800 - f1_score: 0.3162 - val_loss: 1.0343 - val_accuracy: 0.7498 - val_precision: 0.0000e+00 - val_recall: 0.0000e+00 - val_auc: 0.7836 - val_f1_score: 0.0000e+00 - lr: 2.5119e-05\n",
      "Epoch 15/20\n",
      "129/129 [==============================] - 51s 397ms/step - loss: 1.0371 - accuracy: 0.7511 - precision: 0.5051 - recall: 0.2174 - auc: 0.7794 - f1_score: 0.2990 - val_loss: 1.0343 - val_accuracy: 0.7498 - val_precision: 0.0000e+00 - val_recall: 0.0000e+00 - val_auc: 0.7826 - val_f1_score: 0.0000e+00 - lr: 1.5849e-05\n",
      "Epoch 16/20\n",
      "129/129 [==============================] - 51s 395ms/step - loss: 1.0363 - accuracy: 0.7513 - precision: 0.5065 - recall: 0.2101 - auc: 0.7802 - f1_score: 0.2928 - val_loss: 1.0343 - val_accuracy: 0.7498 - val_precision: 0.0000e+00 - val_recall: 0.0000e+00 - val_auc: 0.7850 - val_f1_score: 0.0000e+00 - lr: 1.0000e-05\n",
      "Epoch 17/20\n",
      "129/129 [==============================] - 51s 396ms/step - loss: 1.0371 - accuracy: 0.7495 - precision: 0.4974 - recall: 0.2074 - auc: 0.7803 - f1_score: 0.2878 - val_loss: 1.0343 - val_accuracy: 0.7498 - val_precision: 0.0000e+00 - val_recall: 0.0000e+00 - val_auc: 0.7837 - val_f1_score: 0.0000e+00 - lr: 6.3096e-06\n",
      "Epoch 18/20\n",
      "129/129 [==============================] - 51s 400ms/step - loss: 1.0369 - accuracy: 0.7513 - precision: 0.5061 - recall: 0.2118 - auc: 0.7792 - f1_score: 0.2979 - val_loss: 1.0343 - val_accuracy: 0.7498 - val_precision: 0.0000e+00 - val_recall: 0.0000e+00 - val_auc: 0.7836 - val_f1_score: 0.0000e+00 - lr: 3.9811e-06\n",
      "Epoch 19/20\n",
      "129/129 [==============================] - 51s 397ms/step - loss: 1.0365 - accuracy: 0.7511 - precision: 0.5051 - recall: 0.2179 - auc: 0.7800 - f1_score: 0.2986 - val_loss: 1.0343 - val_accuracy: 0.7498 - val_precision: 0.0000e+00 - val_recall: 0.0000e+00 - val_auc: 0.7836 - val_f1_score: 0.0000e+00 - lr: 2.5119e-06\n",
      "Epoch 20/20\n",
      "129/129 [==============================] - 52s 401ms/step - loss: 1.0371 - accuracy: 0.7541 - precision: 0.5190 - recall: 0.2230 - auc: 0.7807 - f1_score: 0.3106 - val_loss: 1.0343 - val_accuracy: 0.7498 - val_precision: 0.0000e+00 - val_recall: 0.0000e+00 - val_auc: 0.7836 - val_f1_score: 0.0000e+00 - lr: 1.5849e-06\n"
     ]
    }
   ],
   "source": [
    "history=model.fit(train_dataset,\n",
    "                        validation_data=valid_dataset,\n",
    "                        epochs = 20,\n",
    "                        verbose = 1,\n",
    "                         callbacks=lr_scheduler)"
   ]
  },
  {
   "cell_type": "code",
   "execution_count": 16,
   "metadata": {
    "colab": {
     "base_uri": "https://localhost:8080/"
    },
    "id": "HM4-TagPpsOX",
    "outputId": "807e5ec6-45e4-4609-9a40-61dbeaa52892"
   },
   "outputs": [
    {
     "name": "stdout",
     "output_type": "stream",
     "text": [
      "40/40 [==============================] - 4s 101ms/step - loss: 1.0330 - accuracy: 0.7502 - precision: 0.5007 - recall: 0.2924 - auc: 0.7798 - f1_score: 0.3659\n"
     ]
    }
   ],
   "source": [
    "scores = model.evaluate(test_dataset)"
   ]
  },
  {
   "cell_type": "code",
   "execution_count": 17,
   "metadata": {
    "colab": {
     "base_uri": "https://localhost:8080/"
    },
    "id": "Vu0MQgTupsOX",
    "outputId": "5dbc0e4c-603e-4435-da91-43aa2d752b86"
   },
   "outputs": [
    {
     "name": "stdout",
     "output_type": "stream",
     "text": [
      "Accuracy =  0.7501954436302185\n",
      "Precision =  0.5006693601608276\n",
      "Recall =  0.29241594672203064\n",
      "AUC =  0.7798101902008057\n",
      "F1_score =  0.36590585112571716\n"
     ]
    }
   ],
   "source": [
    "print(\"Accuracy = \", scores[1])\n",
    "print(\"Precision = \", scores[2])\n",
    "print(\"Recall = \", scores[3])\n",
    "print(\"AUC = \", scores[4])\n",
    "print(\"F1_score = \", scores[5])"
   ]
  }
 ],
 "metadata": {
  "accelerator": "GPU",
  "colab": {
   "provenance": []
  },
  "gpuClass": "standard",
  "kernelspec": {
   "display_name": "Python 3 (ipykernel)",
   "language": "python",
   "name": "python3"
  },
  "language_info": {
   "codemirror_mode": {
    "name": "ipython",
    "version": 3
   },
   "file_extension": ".py",
   "mimetype": "text/x-python",
   "name": "python",
   "nbconvert_exporter": "python",
   "pygments_lexer": "ipython3",
   "version": "3.9.12"
  }
 },
 "nbformat": 4,
 "nbformat_minor": 1
}
