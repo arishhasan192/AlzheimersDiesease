{
 "cells": [
  {
   "cell_type": "code",
   "execution_count": 2,
   "id": "030e0ee4",
   "metadata": {
    "id": "030e0ee4"
   },
   "outputs": [],
   "source": [
    "import pandas as pd \n",
    "import numpy as np \n",
    "import os\n",
    "import cv2\n",
    "import matplotlib.pyplot as plt\n",
    "import warnings\n",
    "\n",
    "from tensorflow.keras.layers import Input, Lambda, Dense, Flatten, Dropout\n",
    "from tensorflow.keras.models import Model\n",
    "from tensorflow.keras.applications.vgg19 import VGG19\n",
    "from tensorflow.keras.applications.vgg19 import preprocess_input\n",
    "from tensorflow.keras.preprocessing import image, image_dataset_from_directory\n",
    "from tensorflow.keras.preprocessing.image import ImageDataGenerator\n",
    "from tensorflow.keras.models import Sequential\n",
    "from tensorflow import keras\n",
    "import tensorflow \n",
    "import tensorflow as tf"
   ]
  },
  {
   "cell_type": "code",
   "execution_count": 3,
   "id": "8fb8a0b0",
   "metadata": {
    "colab": {
     "base_uri": "https://localhost:8080/"
    },
    "id": "8fb8a0b0",
    "outputId": "f0f7e33d-8849-4377-e451-2fbab42e5fe4"
   },
   "outputs": [
    {
     "name": "stdout",
     "output_type": "stream",
     "text": [
      "Found 5121 files belonging to 4 classes.\n",
      "Using 4097 files for training.\n",
      "Found 5121 files belonging to 4 classes.\n",
      "Using 1024 files for validation.\n",
      "Found 1279 files belonging to 4 classes.\n"
     ]
    }
   ],
   "source": [
    "train_ds = tf.keras.preprocessing.image_dataset_from_directory(\n",
    "    \"Alzheimer_s Dataset/train\",\n",
    "    validation_split=0.2,\n",
    "    subset=\"training\",\n",
    "    seed=1337,\n",
    "    image_size=[180, 180],\n",
    "    batch_size=16,\n",
    ")\n",
    "\n",
    "val_ds = tf.keras.preprocessing.image_dataset_from_directory(\n",
    "    \"Alzheimer_s Dataset/train\",\n",
    "    validation_split=0.2,\n",
    "    subset=\"validation\",\n",
    "    seed=1337,\n",
    "    image_size=[180, 180],\n",
    "    batch_size=16 ,\n",
    ")\n",
    "\n",
    "test_ds = tf.keras.preprocessing.image_dataset_from_directory(\n",
    "    \"Alzheimer_s Dataset/test\",\n",
    "    seed=1337,\n",
    "    image_size=[180, 180],\n",
    "    batch_size=16 ,\n",
    ")"
   ]
  },
  {
   "cell_type": "code",
   "execution_count": 4,
   "id": "cc644394",
   "metadata": {
    "colab": {
     "base_uri": "https://localhost:8080/"
    },
    "id": "cc644394",
    "outputId": "21313819-f059-4094-ccfa-2557cec124c3"
   },
   "outputs": [
    {
     "data": {
      "text/plain": [
       "(4, ['MildDemented', 'ModerateDemented', 'NonDemented', 'VeryMildDemented'])"
      ]
     },
     "execution_count": 4,
     "metadata": {},
     "output_type": "execute_result"
    }
   ],
   "source": [
    "classnames = train_ds.class_names\n",
    "len(classnames),train_ds.class_names"
   ]
  },
  {
   "cell_type": "code",
   "execution_count": 5,
   "id": "8985767d",
   "metadata": {
    "colab": {
     "base_uri": "https://localhost:8080/"
    },
    "id": "8985767d",
    "outputId": "a8987c27-8fd6-4983-8cf5-f9dd9de36a93"
   },
   "outputs": [
    {
     "data": {
      "text/plain": [
       "([717, 52, 2560, 1792],\n",
       " ['MildDemented', 'ModerateDemented', 'NonDemented', 'VeryMildDemented'])"
      ]
     },
     "execution_count": 5,
     "metadata": {},
     "output_type": "execute_result"
    }
   ],
   "source": [
    "NUM_IMAGES = []\n",
    "\n",
    "for label in classnames:\n",
    "    dir_name = \"Alzheimer_s Dataset/train/\" + label[:-2] +'ed'\n",
    "    NUM_IMAGES.append(len([name for name in os.listdir(dir_name)]))\n",
    "    \n",
    "NUM_IMAGES,classnames"
   ]
  },
  {
   "cell_type": "code",
   "execution_count": 6,
   "id": "30ee2be7",
   "metadata": {
    "colab": {
     "base_uri": "https://localhost:8080/"
    },
    "id": "30ee2be7",
    "outputId": "39ef847d-f3e9-4630-ac89-04daf6fc6a89"
   },
   "outputs": [
    {
     "name": "stdout",
     "output_type": "stream",
     "text": [
      "Found 5121 images belonging to 4 classes.\n"
     ]
    }
   ],
   "source": [
    "#Performing Image Augmentation to have more data samples\n",
    "from tensorflow.keras.preprocessing.image import ImageDataGenerator as IDG\n",
    "IMG_SIZE = 180\n",
    "IMAGE_SIZE = [180, 180]\n",
    "DIM = (IMG_SIZE, IMG_SIZE)\n",
    "ZOOM = [.99, 1.01]\n",
    "BRIGHT_RANGE = [0.8, 1.2]\n",
    "HORZ_FLIP = True\n",
    "FILL_MODE = \"constant\"\n",
    "DATA_FORMAT = \"channels_last\"\n",
    "WORK_DIR=\"Alzheimer_s Dataset/train\"\n",
    "work_dr = IDG(rescale = 1./255, brightness_range=BRIGHT_RANGE, zoom_range=ZOOM, data_format=DATA_FORMAT, fill_mode=FILL_MODE, horizontal_flip=HORZ_FLIP)\n",
    "\n",
    "train_data_gen = work_dr.flow_from_directory(directory=WORK_DIR, target_size=DIM, batch_size=6500, shuffle=False)"
   ]
  },
  {
   "cell_type": "code",
   "execution_count": 7,
   "id": "3e40f3b2",
   "metadata": {
    "id": "3e40f3b2"
   },
   "outputs": [],
   "source": [
    "train_data, train_labels = train_data_gen.next()"
   ]
  },
  {
   "cell_type": "code",
   "execution_count": 8,
   "id": "736d911b",
   "metadata": {
    "colab": {
     "base_uri": "https://localhost:8080/"
    },
    "id": "736d911b",
    "outputId": "d0b3db63-eb4d-43b2-f566-a838174cebc5"
   },
   "outputs": [
    {
     "name": "stdout",
     "output_type": "stream",
     "text": [
      "(5121, 180, 180, 3) (5121, 4)\n"
     ]
    }
   ],
   "source": [
    "#before oversampling\n",
    "print(train_data.shape, train_labels.shape)"
   ]
  },
  {
   "cell_type": "code",
   "execution_count": 9,
   "id": "da09af2f",
   "metadata": {
    "colab": {
     "base_uri": "https://localhost:8080/"
    },
    "id": "da09af2f",
    "outputId": "1e22f109-39f1-418b-f06f-d57f9c8313e7"
   },
   "outputs": [
    {
     "name": "stdout",
     "output_type": "stream",
     "text": [
      "(10240, 180, 180, 3) (10240, 4)\n"
     ]
    }
   ],
   "source": [
    "#Performing over-sampling of the data, since the classes are imbalanced\n",
    "#after oversampling\n",
    "from imblearn.over_sampling import SMOTE\n",
    "sm = SMOTE(random_state=42)\n",
    "\n",
    "train_data, train_labels = sm.fit_resample(train_data.reshape(-1, IMG_SIZE * IMG_SIZE * 3), train_labels)\n",
    "\n",
    "train_data = train_data.reshape(-1, IMG_SIZE, IMG_SIZE, 3)\n",
    "\n",
    "print(train_data.shape, train_labels.shape)"
   ]
  },
  {
   "cell_type": "code",
   "execution_count": 11,
   "id": "6f44c9e1",
   "metadata": {
    "id": "6f44c9e1"
   },
   "outputs": [],
   "source": [
    "#Splitting the data into train, test, and validation sets\n",
    "from sklearn.model_selection import train_test_split\n",
    "train_data, test_data, train_labels, test_labels = train_test_split(train_data, train_labels, test_size = 0.2, random_state=42)\n",
    " "
   ]
  },
  {
   "cell_type": "code",
   "execution_count": 12,
   "id": "ad9beaae",
   "metadata": {
    "colab": {
     "base_uri": "https://localhost:8080/"
    },
    "id": "ad9beaae",
    "outputId": "fb769392-e88f-4272-de8e-5de597215e90"
   },
   "outputs": [],
   "source": [
    "from tensorflow.keras.applications.inception_v3 import InceptionV3\n",
    "inception_model = InceptionV3(input_shape=(180, 180, 3), include_top=False, weights=\"imagenet\")"
   ]
  },
  {
   "cell_type": "code",
   "execution_count": 13,
   "id": "5a1ac9b7",
   "metadata": {
    "id": "5a1ac9b7"
   },
   "outputs": [],
   "source": [
    "for layer in inception_model.layers:\n",
    "    layer.trainable=False"
   ]
  },
  {
   "cell_type": "code",
   "execution_count": 14,
   "id": "c10d0c61",
   "metadata": {
    "id": "c10d0c61"
   },
   "outputs": [],
   "source": [
    "from tensorflow.keras.layers import SeparableConv2D, BatchNormalization, GlobalAveragePooling2D\n",
    "custom_inception_model = Sequential([\n",
    "        inception_model,\n",
    "        Dropout(0.5),\n",
    "        GlobalAveragePooling2D(),\n",
    "        Flatten(),\n",
    "        BatchNormalization(),\n",
    "        Dense(512, activation='relu'),\n",
    "        BatchNormalization(),\n",
    "        Dropout(0.5),\n",
    "        Dense(256, activation='relu'),\n",
    "        BatchNormalization(),\n",
    "        Dropout(0.5),\n",
    "        Dense(128, activation='relu'),\n",
    "        BatchNormalization(),\n",
    "        Dropout(0.5),\n",
    "        Dense(64, activation='relu'),\n",
    "        Dropout(0.5),\n",
    "        BatchNormalization(),\n",
    "        Dense(4, activation='softmax')        \n",
    "    ], name = \"inception_cnn_model\")"
   ]
  },
  {
   "cell_type": "code",
   "execution_count": 15,
   "id": "91af6f30",
   "metadata": {
    "colab": {
     "base_uri": "https://localhost:8080/"
    },
    "id": "91af6f30",
    "outputId": "758278f7-b99c-456a-8715-640dc26ca757"
   },
   "outputs": [
    {
     "name": "stdout",
     "output_type": "stream",
     "text": [
      "Model: \"inception_cnn_model\"\n",
      "_________________________________________________________________\n",
      " Layer (type)                Output Shape              Param #   \n",
      "=================================================================\n",
      " inception_v3 (Functional)   (None, 4, 4, 2048)        21802784  \n",
      "                                                                 \n",
      " dropout (Dropout)           (None, 4, 4, 2048)        0         \n",
      "                                                                 \n",
      " global_average_pooling2d (G  (None, 2048)             0         \n",
      " lobalAveragePooling2D)                                          \n",
      "                                                                 \n",
      " flatten (Flatten)           (None, 2048)              0         \n",
      "                                                                 \n",
      " batch_normalization_94 (Bat  (None, 2048)             8192      \n",
      " chNormalization)                                                \n",
      "                                                                 \n",
      " dense (Dense)               (None, 512)               1049088   \n",
      "                                                                 \n",
      " batch_normalization_95 (Bat  (None, 512)              2048      \n",
      " chNormalization)                                                \n",
      "                                                                 \n",
      " dropout_1 (Dropout)         (None, 512)               0         \n",
      "                                                                 \n",
      " dense_1 (Dense)             (None, 256)               131328    \n",
      "                                                                 \n",
      " batch_normalization_96 (Bat  (None, 256)              1024      \n",
      " chNormalization)                                                \n",
      "                                                                 \n",
      " dropout_2 (Dropout)         (None, 256)               0         \n",
      "                                                                 \n",
      " dense_2 (Dense)             (None, 128)               32896     \n",
      "                                                                 \n",
      " batch_normalization_97 (Bat  (None, 128)              512       \n",
      " chNormalization)                                                \n",
      "                                                                 \n",
      " dropout_3 (Dropout)         (None, 128)               0         \n",
      "                                                                 \n",
      " dense_3 (Dense)             (None, 64)                8256      \n",
      "                                                                 \n",
      " dropout_4 (Dropout)         (None, 64)                0         \n",
      "                                                                 \n",
      " batch_normalization_98 (Bat  (None, 64)               256       \n",
      " chNormalization)                                                \n",
      "                                                                 \n",
      " dense_4 (Dense)             (None, 4)                 260       \n",
      "                                                                 \n",
      "=================================================================\n",
      "Total params: 23,036,644\n",
      "Trainable params: 1,227,844\n",
      "Non-trainable params: 21,808,800\n",
      "_________________________________________________________________\n"
     ]
    }
   ],
   "source": [
    "custom_inception_model.summary()"
   ]
  },
  {
   "cell_type": "code",
   "execution_count": 16,
   "id": "015bebf7",
   "metadata": {
    "id": "015bebf7"
   },
   "outputs": [],
   "source": [
    "#Defining a custom callback function to stop training our model when accuracy goes above 99%\n",
    "from tensorflow.keras.callbacks import ReduceLROnPlateau\n",
    "\n",
    "class MyCallback(tf.keras.callbacks.Callback):\n",
    "    def on_epoch_end(self, epoch, logs={}):\n",
    "        if logs.get('acc') > 0.99:\n",
    "            print(\"\\nReached accuracy threshold! Terminating training.\")\n",
    "            self.model.stop_training = True\n",
    "            \n",
    "my_callback = MyCallback()\n",
    "\n",
    "#ReduceLROnPlateau to stabilize the training process of the model\n",
    "rop_callback = ReduceLROnPlateau(monitor=\"val_loss\", patience=3)"
   ]
  },
  {
   "cell_type": "code",
   "execution_count": 17,
   "id": "U953MJGI1du0",
   "metadata": {
    "id": "U953MJGI1du0"
   },
   "outputs": [],
   "source": [
    "import keras.backend as K\n",
    "\n",
    "def f1_score(y_true, y_pred): #taken from old keras source code\n",
    "    true_positives = K.sum(K.round(K.clip(y_true * y_pred, 0, 1)))\n",
    "    possible_positives = K.sum(K.round(K.clip(y_true, 0, 1)))\n",
    "    predicted_positives = K.sum(K.round(K.clip(y_pred, 0, 1)))\n",
    "    precision = true_positives / (predicted_positives + K.epsilon())\n",
    "    recall = true_positives / (possible_positives + K.epsilon())\n",
    "    f1_val = 2*(precision*recall)/(precision+recall+K.epsilon())\n",
    "    return f1_val"
   ]
  },
  {
   "cell_type": "code",
   "execution_count": 18,
   "id": "4c9016ef",
   "metadata": {
    "id": "4c9016ef"
   },
   "outputs": [],
   "source": [
    "METRICS = [ tf.keras.metrics.BinaryAccuracy(name='accuracy'),\n",
    "      tf.keras.metrics.Precision(name='precision'),\n",
    "      tf.keras.metrics.Recall(name='recall'),  \n",
    "      tf.keras.metrics.AUC(name='auc'),\n",
    "       f1_score\n",
    "     ]\n",
    "\n",
    "CALLBACKS = [my_callback, rop_callback]\n",
    "    \n",
    "custom_inception_model.compile(optimizer='rmsprop',\n",
    "                              loss=tf.losses.CategoricalCrossentropy(),\n",
    "                              metrics=METRICS)"
   ]
  },
  {
   "cell_type": "code",
   "execution_count": 19,
   "id": "6d6dd3f8",
   "metadata": {
    "colab": {
     "base_uri": "https://localhost:8080/"
    },
    "id": "6d6dd3f8",
    "outputId": "3f1d3c80-ac7a-420f-cb3f-436795b8ae5b"
   },
   "outputs": [
    {
     "name": "stdout",
     "output_type": "stream",
     "text": [
      "Epoch 1/20\n",
      "205/205 [==============================] - 180s 846ms/step - loss: 1.3962 - accuracy: 0.7427 - precision: 0.4749 - recall: 0.2759 - auc: 0.6742 - f1_score: 0.3473\n",
      "Epoch 2/20\n",
      "205/205 [==============================] - 170s 827ms/step - loss: 0.9044 - accuracy: 0.8113 - precision: 0.6924 - recall: 0.4415 - auc: 0.8513 - f1_score: 0.5373\n",
      "Epoch 3/20\n",
      "205/205 [==============================] - 171s 834ms/step - loss: 0.7785 - accuracy: 0.8329 - precision: 0.7479 - recall: 0.4999 - auc: 0.8874 - f1_score: 0.5979\n",
      "Epoch 4/20\n",
      "205/205 [==============================] - 170s 830ms/step - loss: 0.7069 - accuracy: 0.8490 - precision: 0.7779 - recall: 0.5544 - auc: 0.9095 - f1_score: 0.6462\n",
      "Epoch 5/20\n",
      "205/205 [==============================] - 171s 832ms/step - loss: 0.6774 - accuracy: 0.8558 - precision: 0.7806 - recall: 0.5884 - auc: 0.9172 - f1_score: 0.6696\n",
      "Epoch 6/20\n",
      "205/205 [==============================] - 171s 833ms/step - loss: 0.6294 - accuracy: 0.8689 - precision: 0.7967 - recall: 0.6386 - auc: 0.9291 - f1_score: 0.7078\n",
      "Epoch 7/20\n",
      "205/205 [==============================] - 170s 831ms/step - loss: 0.5883 - accuracy: 0.8775 - precision: 0.8004 - recall: 0.6797 - auc: 0.9386 - f1_score: 0.7344\n",
      "Epoch 8/20\n",
      "205/205 [==============================] - 171s 834ms/step - loss: 0.5618 - accuracy: 0.8836 - precision: 0.8046 - recall: 0.7056 - auc: 0.9438 - f1_score: 0.7513\n",
      "Epoch 9/20\n",
      "205/205 [==============================] - 170s 830ms/step - loss: 0.5296 - accuracy: 0.8915 - precision: 0.8202 - recall: 0.7247 - auc: 0.9499 - f1_score: 0.7686\n",
      "Epoch 10/20\n",
      "205/205 [==============================] - 171s 834ms/step - loss: 0.5112 - accuracy: 0.8975 - precision: 0.8265 - recall: 0.7467 - auc: 0.9535 - f1_score: 0.7843\n",
      "Epoch 11/20\n",
      "205/205 [==============================] - 171s 833ms/step - loss: 0.5011 - accuracy: 0.9018 - precision: 0.8336 - recall: 0.7589 - auc: 0.9558 - f1_score: 0.7940\n",
      "Epoch 12/20\n",
      "205/205 [==============================] - 171s 836ms/step - loss: 0.4533 - accuracy: 0.9084 - precision: 0.8422 - recall: 0.7795 - auc: 0.9633 - f1_score: 0.8089\n",
      "Epoch 13/20\n",
      "205/205 [==============================] - 174s 849ms/step - loss: 0.4346 - accuracy: 0.9164 - precision: 0.8539 - recall: 0.8028 - auc: 0.9660 - f1_score: 0.8272\n",
      "Epoch 14/20\n",
      "205/205 [==============================] - 171s 836ms/step - loss: 0.4346 - accuracy: 0.9181 - precision: 0.8571 - recall: 0.8071 - auc: 0.9665 - f1_score: 0.8310\n",
      "Epoch 15/20\n",
      "205/205 [==============================] - 172s 840ms/step - loss: 0.4112 - accuracy: 0.9233 - precision: 0.8655 - recall: 0.8208 - auc: 0.9696 - f1_score: 0.8420\n",
      "Epoch 16/20\n",
      "205/205 [==============================] - 171s 836ms/step - loss: 0.3961 - accuracy: 0.9242 - precision: 0.8639 - recall: 0.8273 - auc: 0.9717 - f1_score: 0.8448\n",
      "Epoch 17/20\n",
      "205/205 [==============================] - 172s 838ms/step - loss: 0.3694 - accuracy: 0.9304 - precision: 0.8754 - recall: 0.8413 - auc: 0.9750 - f1_score: 0.8578\n",
      "Epoch 18/20\n",
      "205/205 [==============================] - 172s 838ms/step - loss: 0.3587 - accuracy: 0.9359 - precision: 0.8850 - recall: 0.8549 - auc: 0.9766 - f1_score: 0.8694\n",
      "Epoch 19/20\n",
      "205/205 [==============================] - 173s 846ms/step - loss: 0.3599 - accuracy: 0.9353 - precision: 0.8825 - recall: 0.8552 - auc: 0.9761 - f1_score: 0.8684\n",
      "Epoch 20/20\n",
      "205/205 [==============================] - 171s 836ms/step - loss: 0.3503 - accuracy: 0.9364 - precision: 0.8869 - recall: 0.8547 - auc: 0.9775 - f1_score: 0.8701\n"
     ]
    }
   ],
   "source": [
    "#Fit the training data to the model and validate it using the validation data\n",
    "EPOCHS = 20\n",
    "\n",
    "history = custom_inception_model.fit(train_data, train_labels, epochs=EPOCHS)"
   ]
  },
  {
   "cell_type": "code",
   "execution_count": 23,
   "id": "43f08fbf",
   "metadata": {
    "id": "43f08fbf"
   },
   "outputs": [
    {
     "name": "stdout",
     "output_type": "stream",
     "text": [
      "52/52 [==============================] - 38s 706ms/step - loss: 0.3443 - accuracy: 0.9277 - precision: 0.8629 - recall: 0.8450 - auc: 0.9785 - f1_score: 0.8539\n",
      "Testing Accuracy: 92.77%\n"
     ]
    }
   ],
   "source": [
    "test_scores = custom_inception_model.evaluate(test_data, test_labels)\n",
    "\n",
    "#print(\"Training Accuracy: %.2f%%\"%(train_scores[1] * 100))\n",
    "#print(\"Validation Accuracy: %.2f%%\"%(val_scores[1] * 100))\n",
    "print(\"Testing Accuracy: %.2f%%\"%(test_scores[1] * 100))"
   ]
  },
  {
   "cell_type": "code",
   "execution_count": 20,
   "id": "a31b7022",
   "metadata": {
    "id": "a31b7022"
   },
   "outputs": [
    {
     "name": "stdout",
     "output_type": "stream",
     "text": [
      "52/52 [==============================] - 43s 812ms/step\n"
     ]
    }
   ],
   "source": [
    "pred_labels = custom_inception_model.predict(test_data)"
   ]
  },
  {
   "cell_type": "code",
   "execution_count": 21,
   "id": "679eb36f",
   "metadata": {
    "id": "679eb36f"
   },
   "outputs": [
    {
     "data": {
      "image/png": "[encoded data removed]",
      "text/plain": [
       "<Figure size 640x480 with 2 Axes>"
      ]
     },
     "metadata": {},
     "output_type": "display_data"
    }
   ],
   "source": [
    "#Plot the confusion matrix to understand the classification in detail\n",
    "from sklearn.metrics import classification_report, confusion_matrix\n",
    "import seaborn as sns\n",
    "\n",
    "pred_ls = np.argmax(pred_labels, axis=1)\n",
    "test_ls = np.argmax(test_labels, axis=1)\n",
    "\n",
    "conf_arr = confusion_matrix(test_ls, pred_ls)\n",
    "\n",
    "plt.figure(figsize=(8, 6), dpi=80, facecolor='w', edgecolor='k')\n",
    "\n",
    "ax = sns.heatmap(conf_arr, cmap='Greens', annot=True, fmt='d', xticklabels= classnames,\n",
    "                yticklabels=classnames)\n",
    "\n",
    "plt.title('Alzheimer\\'s Disease Diagnosis')\n",
    "plt.xlabel('Prediction')\n",
    "plt.ylabel('Truth')\n",
    "plt.show(ax)"
   ]
  },
  {
   "cell_type": "code",
   "execution_count": 24,
   "id": "hPa2HqtX3C2R",
   "metadata": {
    "id": "hPa2HqtX3C2R"
   },
   "outputs": [
    {
     "name": "stdout",
     "output_type": "stream",
     "text": [
      "Accuracy =  0.9276998043060303\n",
      "Precision =  0.8629283308982849\n",
      "Recall =  0.8450274467468262\n",
      "AUC =  0.9784917831420898\n",
      "F1_score =  0.8538805246353149\n"
     ]
    }
   ],
   "source": [
    "print(\"Accuracy = \", test_scores[1])\n",
    "print(\"Precision = \", test_scores[2])\n",
    "print(\"Recall = \", test_scores[3])\n",
    "print(\"AUC = \", test_scores[4])\n",
    "print(\"F1_score = \", test_scores[5])"
   ]
  }
 ],
 "metadata": {
  "accelerator": "GPU",
  "colab": {
   "provenance": []
  },
  "gpuClass": "standard",
  "kernelspec": {
   "display_name": "Python 3 (ipykernel)",
   "language": "python",
   "name": "python3"
  },
  "language_info": {
   "codemirror_mode": {
    "name": "ipython",
    "version": 3
   },
   "file_extension": ".py",
   "mimetype": "text/x-python",
   "name": "python",
   "nbconvert_exporter": "python",
   "pygments_lexer": "ipython3",
   "version": "3.9.12"
  },
  "papermill": {
   "default_parameters": {},
   "duration": 467.980943,
   "end_time": "2023-03-02T13:43:18.059798",
   "environment_variables": {},
   "exception": null,
   "input_path": "__notebook__.ipynb",
   "output_path": "__notebook__.ipynb",
   "parameters": {},
   "start_time": "2023-03-02T13:35:30.078855",
   "version": "2.4.0"
  }
 },
 "nbformat": 4,
 "nbformat_minor": 5
}
