{
 "cells": [
  {
   "cell_type": "markdown",
   "metadata": {
    "id": "ISV2XX8z0GjV"
   },
   "source": [
    "### IMPORT LIBRARIES"
   ]
  },
  {
   "cell_type": "code",
   "execution_count": null,
   "metadata": {
    "_cell_guid": "79c7e3d0-c299-4dcb-8224-4455121ee9b0",
    "_uuid": "d629ff2d2480ee46fbb7e2d37f6b5fab8052498a",
    "colab": {
     "base_uri": "https://localhost:8080/"
    },
    "id": "_ImBRP290Gja",
    "outputId": "b24b6176-202f-417c-f283-950548501655"
   },
   "outputs": [
    {
     "name": "stdout",
     "output_type": "stream",
     "text": [
      "Looking in indexes: https://pypi.org/simple, https://us-python.pkg.dev/colab-wheels/public/simple/\n",
      "Collecting typeguard\n",
      "  Downloading typeguard-3.0.2-py3-none-any.whl (30 kB)\n",
      "Requirement already satisfied: typing-extensions>=4.4.0 in /usr/local/lib/python3.10/dist-packages (from typeguard) (4.5.0)\n",
      "Installing collected packages: typeguard\n",
      "Successfully installed typeguard-3.0.2\n"
     ]
    }
   ],
   "source": [
    "\n",
    "import numpy as np\n",
    "import pandas as pd\n",
    "import matplotlib.pyplot as plt\n",
    "import seaborn as sn\n",
    "import skimage.io\n",
    "import os \n",
    "import tqdm\n",
    "import glob\n",
    "import tensorflow \n",
    "!pip install typeguard\n",
    "from tqdm import tqdm\n",
    "from sklearn.utils import shuffle\n",
    "from sklearn import metrics\n",
    "from sklearn.metrics import confusion_matrix, classification_report\n",
    "from sklearn.model_selection import train_test_split\n",
    "\n",
    "from skimage.io import imread, imshow\n",
    "from skimage.transform import resize\n",
    "from skimage.color import gray2rgb\n",
    "\n",
    "import tensorflow as tf\n",
    "from tensorflow.keras.preprocessing.image import ImageDataGenerator\n",
    "from tensorflow.keras.preprocessing import image_dataset_from_directory\n",
    "from tensorflow.keras.models import Sequential\n",
    "from tensorflow.keras.layers import InputLayer, BatchNormalization, Dropout, Flatten, Dense, Activation, MaxPool2D, Conv2D\n",
    "from tensorflow.keras.callbacks import EarlyStopping, ModelCheckpoint\n",
    "from tensorflow.keras.applications.vgg16 import VGG16 # VGG16\n",
    "from tensorflow.keras.applications.vgg19 import VGG19 # VGG19\n",
    "from tensorflow.keras.applications.resnet50 import ResNet50 # ResNet50\n",
    "from tensorflow.keras.applications.xception import Xception # Xception\n",
    "from tensorflow.keras.applications.mobilenet import MobileNet # MobileNet\n",
    "from tensorflow.keras.applications.nasnet import NASNetMobile # NASNetMobile\n",
    "from tensorflow.keras.applications.densenet import DenseNet169 # DenseNet169\n",
    "from tensorflow.keras.applications.densenet import DenseNet121 # DenseNet121\n",
    "from tensorflow.keras.applications.mobilenet_v2 import MobileNetV2 # MobileNetV2\n",
    "from tensorflow.keras.applications.inception_v3 import InceptionV3\n",
    "from tensorflow.keras.utils import to_categorical\n",
    "from keras import optimizers\n",
    "\n",
    "from keras.callbacks import Callback,ModelCheckpoint\n",
    "from keras.models import Sequential,load_model\n",
    "from keras.layers import Dense, Dropout\n",
    "from keras.wrappers.scikit_learn import KerasClassifier\n",
    "import keras.backend as K\n",
    "\n",
    "#import tensorflow_addons as tfa\n",
    "#from tensorflow.keras.metrics import Metric\n",
    "#from tensorflow_addons.utils.types import AcceptableDTypes, FloatTensorLike\n",
    "from typeguard import typechecked\n",
    "from typing import Optional"
   ]
  },
  {
   "cell_type": "code",
   "execution_count": null,
   "metadata": {
    "id": "7DWcIMzG0Gjk"
   },
   "outputs": [],
   "source": [
    "train_datagen = ImageDataGenerator(rescale = 1./255,\n",
    "                                   validation_split = 0.2,\n",
    "        rotation_range=10,\n",
    "        width_shift_range=0.2,\n",
    "        height_shift_range=0.2,\n",
    "        shear_range=0.2,\n",
    "        zoom_range=0.2,\n",
    "        horizontal_flip=True,\n",
    "        vertical_flip=True,\n",
    "        fill_mode='nearest')\n",
    "\n",
    "valid_datagen = ImageDataGenerator(rescale = 1./255,\n",
    "                                  validation_split = 0.2)\n",
    "\n",
    "test_datagen  = ImageDataGenerator(rescale = 1./255\n",
    "                                  )"
   ]
  },
  {
   "cell_type": "code",
   "execution_count": null,
   "metadata": {
    "colab": {
     "base_uri": "https://localhost:8080/"
    },
    "id": "ol1hh53zNH6a",
    "outputId": "dfde52fe-750e-4818-8634-16ccaf9d369f"
   },
   "outputs": [
    {
     "name": "stdout",
     "output_type": "stream",
     "text": [
      "Mounted at /content/gdrive\n"
     ]
    }
   ],
   "source": [
    "from google.colab import drive\n",
    "drive.mount('/content/gdrive')"
   ]
  },
  {
   "cell_type": "code",
   "execution_count": null,
   "metadata": {
    "colab": {
     "base_uri": "https://localhost:8080/"
    },
    "id": "cp1gdyw_0Gjm",
    "outputId": "329fe461-9174-45b5-cc6b-ebe46693534b"
   },
   "outputs": [
    {
     "name": "stdout",
     "output_type": "stream",
     "text": [
      "Found 5532 images belonging to 4 classes.\n"
     ]
    }
   ],
   "source": [
    "                                                                 \n",
    "\n",
    "train_dataset  = train_datagen.flow_from_directory(directory = 'gdrive/MyDrive/Alzheimer_s Dataset/train',\n",
    "                                                   target_size = (224,224),\n",
    "                                                   class_mode = 'categorical',\n",
    "                                                   subset = 'training',\n",
    "                                                   batch_size = 32)"
   ]
  },
  {
   "cell_type": "code",
   "execution_count": null,
   "metadata": {
    "colab": {
     "base_uri": "https://localhost:8080/"
    },
    "id": "A4VfdfNp0Gjq",
    "outputId": "cfb2c79f-39a3-4b01-cc10-c0eb4ea5b960"
   },
   "outputs": [
    {
     "name": "stdout",
     "output_type": "stream",
     "text": [
      "Found 1381 images belonging to 4 classes.\n"
     ]
    }
   ],
   "source": [
    "\n",
    "valid_dataset = valid_datagen.flow_from_directory(directory = 'gdrive/MyDrive/Alzheimer_s Dataset/train',\n",
    "                                                  target_size = (224,224),\n",
    "                                                  class_mode = 'categorical',\n",
    "                                                  subset = 'validation',\n",
    "                                                  batch_size = 32)"
   ]
  },
  {
   "cell_type": "code",
   "execution_count": null,
   "metadata": {
    "colab": {
     "base_uri": "https://localhost:8080/"
    },
    "id": "ASNtwB0i0Gjs",
    "outputId": "60d46bc7-ae5b-483d-df59-cedfbd97b300"
   },
   "outputs": [
    {
     "name": "stdout",
     "output_type": "stream",
     "text": [
      "Found 1279 images belonging to 4 classes.\n"
     ]
    }
   ],
   "source": [
    "\n",
    "\n",
    "test_dataset = test_datagen.flow_from_directory(directory = 'gdrive/MyDrive/Alzheimer_s Dataset/test',\n",
    "                                                  target_size = (224,224),\n",
    "                                                  class_mode = 'categorical',\n",
    "                                                  batch_size = 32)"
   ]
  },
  {
   "cell_type": "markdown",
   "metadata": {
    "id": "DxTd0Bee0Gjv"
   },
   "source": [
    "### MODEL BUILDING"
   ]
  },
  {
   "cell_type": "code",
   "execution_count": null,
   "metadata": {
    "colab": {
     "base_uri": "https://localhost:8080/"
    },
    "id": "Z4ofnFvP0Gjw",
    "outputId": "8edf392b-1a99-45e1-adfb-3ed1c300526e"
   },
   "outputs": [
    {
     "name": "stdout",
     "output_type": "stream",
     "text": [
      "Downloading data from https://storage.googleapis.com/tensorflow/keras-applications/densenet/densenet121_weights_tf_dim_ordering_tf_kernels_notop.h5\n",
      "29084464/29084464 [==============================] - 2s 0us/step\n"
     ]
    }
   ],
   "source": [
    "base_model = DenseNet121(input_shape=(224,224,3), \n",
    "                   include_top=False,\n",
    "                   weights=\"imagenet\")\n",
    "model=Sequential()\n",
    "model.add(base_model)\n",
    "model.add(Dropout(0.5))\n",
    "model.add(Flatten())\n",
    "model.add(BatchNormalization())\n",
    "model.add(Dense(64,kernel_initializer='he_uniform'))\n",
    "model.add(BatchNormalization())\n",
    "model.add(Activation('relu'))\n",
    "model.add(Dropout(0.5))\n",
    "model.add(Dense(64,kernel_initializer='he_uniform'))\n",
    "model.add(BatchNormalization())\n",
    "model.add(Activation('relu'))\n",
    "model.add(Dropout(0.5))\n",
    "model.add(Dense(64,kernel_initializer='he_uniform'))\n",
    "model.add(BatchNormalization())\n",
    "model.add(Activation('relu'))\n",
    "model.add(Dropout(0.5))\n",
    "model.add(Dense(32,kernel_initializer='he_uniform'))\n",
    "model.add(BatchNormalization())\n",
    "model.add(Activation('relu'))\n",
    "model.add(Dropout(0.5))\n",
    "model.add(Dense(32,kernel_initializer='he_uniform'))\n",
    "model.add(BatchNormalization())\n",
    "model.add(Activation('relu'))\n",
    "model.add(Dense(4,activation='softmax'))"
   ]
  },
  {
   "cell_type": "code",
   "execution_count": null,
   "metadata": {
    "colab": {
     "base_uri": "https://localhost:8080/"
    },
    "id": "Vu122IXB0Gjx",
    "outputId": "bafd4c44-1f77-4709-8573-4f33eb26b94b"
   },
   "outputs": [
    {
     "name": "stdout",
     "output_type": "stream",
     "text": [
      "Model: \"sequential\"\n",
      "_________________________________________________________________\n",
      " Layer (type)                Output Shape              Param #   \n",
      "=================================================================\n",
      " densenet121 (Functional)    (None, 7, 7, 1024)        7037504   \n",
      "                                                                 \n",
      " dropout (Dropout)           (None, 7, 7, 1024)        0         \n",
      "                                                                 \n",
      " flatten (Flatten)           (None, 50176)             0         \n",
      "                                                                 \n",
      " batch_normalization (BatchN  (None, 50176)            200704    \n",
      " ormalization)                                                   \n",
      "                                                                 \n",
      " dense (Dense)               (None, 64)                3211328   \n",
      "                                                                 \n",
      " batch_normalization_1 (Batc  (None, 64)               256       \n",
      " hNormalization)                                                 \n",
      "                                                                 \n",
      " activation (Activation)     (None, 64)                0         \n",
      "                                                                 \n",
      " dropout_1 (Dropout)         (None, 64)                0         \n",
      "                                                                 \n",
      " dense_1 (Dense)             (None, 64)                4160      \n",
      "                                                                 \n",
      " batch_normalization_2 (Batc  (None, 64)               256       \n",
      " hNormalization)                                                 \n",
      "                                                                 \n",
      " activation_1 (Activation)   (None, 64)                0         \n",
      "                                                                 \n",
      " dropout_2 (Dropout)         (None, 64)                0         \n",
      "                                                                 \n",
      " dense_2 (Dense)             (None, 64)                4160      \n",
      "                                                                 \n",
      " batch_normalization_3 (Batc  (None, 64)               256       \n",
      " hNormalization)                                                 \n",
      "                                                                 \n",
      " activation_2 (Activation)   (None, 64)                0         \n",
      "                                                                 \n",
      " dropout_3 (Dropout)         (None, 64)                0         \n",
      "                                                                 \n",
      " dense_3 (Dense)             (None, 32)                2080      \n",
      "                                                                 \n",
      " batch_normalization_4 (Batc  (None, 32)               128       \n",
      " hNormalization)                                                 \n",
      "                                                                 \n",
      " activation_3 (Activation)   (None, 32)                0         \n",
      "                                                                 \n",
      " dropout_4 (Dropout)         (None, 32)                0         \n",
      "                                                                 \n",
      " dense_4 (Dense)             (None, 32)                1056      \n",
      "                                                                 \n",
      " batch_normalization_5 (Batc  (None, 32)               128       \n",
      " hNormalization)                                                 \n",
      "                                                                 \n",
      " activation_4 (Activation)   (None, 32)                0         \n",
      "                                                                 \n",
      " dense_5 (Dense)             (None, 4)                 132       \n",
      "                                                                 \n",
      "=================================================================\n",
      "Total params: 10,462,148\n",
      "Trainable params: 10,277,636\n",
      "Non-trainable params: 184,512\n",
      "_________________________________________________________________\n"
     ]
    }
   ],
   "source": [
    "model.summary()"
   ]
  },
  {
   "cell_type": "code",
   "execution_count": null,
   "metadata": {
    "id": "ZD0duSZt0Gjz"
   },
   "outputs": [],
   "source": [
    "def f1_score(y_true, y_pred): #taken from old keras source code\n",
    "    true_positives = K.sum(K.round(K.clip(y_true * y_pred, 0, 1)))\n",
    "    possible_positives = K.sum(K.round(K.clip(y_true, 0, 1)))\n",
    "    predicted_positives = K.sum(K.round(K.clip(y_pred, 0, 1)))\n",
    "    precision = true_positives / (predicted_positives + K.epsilon())\n",
    "    recall = true_positives / (possible_positives + K.epsilon())\n",
    "    f1_val = 2*(precision*recall)/(precision+recall+K.epsilon())\n",
    "    return f1_val"
   ]
  },
  {
   "cell_type": "code",
   "execution_count": null,
   "metadata": {
    "id": "-kdk4sBi0Gj0"
   },
   "outputs": [],
   "source": [
    "METRICS = [\n",
    "      tf.keras.metrics.BinaryAccuracy(name='accuracy'),\n",
    "      tf.keras.metrics.Precision(name='precision'),\n",
    "      tf.keras.metrics.Recall(name='recall'),  \n",
    "      tf.keras.metrics.AUC(name='auc'),\n",
    "        f1_score,\n",
    "]"
   ]
  },
  {
   "cell_type": "code",
   "execution_count": null,
   "metadata": {
    "id": "bHmAiaYk0Gj1"
   },
   "outputs": [],
   "source": [
    "def exponential_decay(lr0, s):\n",
    "    def exponential_decay_fn(epoch):\n",
    "        return lr0 * 0.1 **(epoch / s)\n",
    "    return exponential_decay_fn\n",
    "\n",
    "exponential_decay_fn = exponential_decay(0.01, 5) # when i run it for 50 epochs\n",
    "\n",
    "lr_scheduler = tf.keras.callbacks.LearningRateScheduler(exponential_decay_fn)"
   ]
  },
  {
   "cell_type": "code",
   "execution_count": null,
   "metadata": {
    "id": "Q-4yYzJ-0Gj2"
   },
   "outputs": [],
   "source": [
    "model.compile(optimizer=tf.keras.optimizers.Adam(\n",
    "    learning_rate=0.001, beta_1=0.9, beta_2=0.999, epsilon=1e-07, amsgrad=False,\n",
    "    name='Adam',), loss='categorical_crossentropy',metrics=METRICS)"
   ]
  },
  {
   "cell_type": "code",
   "execution_count": null,
   "metadata": {
    "colab": {
     "base_uri": "https://localhost:8080/"
    },
    "id": "7jRZ9DcP0Gj3",
    "outputId": "6213d02f-4c41-40f1-b03b-4d5e599764b0"
   },
   "outputs": [
    {
     "name": "stdout",
     "output_type": "stream",
     "text": [
      "Epoch 1/20\n",
      "173/173 [==============================] - 3873s 22s/step - loss: 1.0282 - accuracy: 0.7514 - precision: 0.5047 - recall: 0.3111 - auc: 0.7904 - f1_score: 0.3771 - val_loss: 95.1819 - val_accuracy: 0.6854 - val_precision: 0.3707 - val_recall: 0.3707 - val_auc: 0.5805 - val_f1_score: 0.3675 - lr: 0.0100\n",
      "Epoch 2/20\n",
      "173/173 [==============================] - 106s 610ms/step - loss: 0.9473 - accuracy: 0.7824 - precision: 0.5798 - recall: 0.4702 - auc: 0.8256 - f1_score: 0.5079 - val_loss: 2.7764 - val_accuracy: 0.7306 - val_precision: 0.4600 - val_recall: 0.4453 - val_auc: 0.7171 - val_f1_score: 0.4523 - lr: 0.0063\n",
      "Epoch 3/20\n",
      "173/173 [==============================] - 102s 590ms/step - loss: 0.9230 - accuracy: 0.7942 - precision: 0.5932 - recall: 0.5622 - auc: 0.8350 - f1_score: 0.5765 - val_loss: 1.0118 - val_accuracy: 0.7592 - val_precision: 0.5185 - val_recall: 0.5185 - val_auc: 0.7987 - val_f1_score: 0.5239 - lr: 0.0040\n",
      "Epoch 4/20\n",
      "173/173 [==============================] - 104s 602ms/step - loss: 0.9161 - accuracy: 0.7908 - precision: 0.5858 - recall: 0.5566 - auc: 0.8378 - f1_score: 0.5705 - val_loss: 1.0235 - val_accuracy: 0.7592 - val_precision: 0.5185 - val_recall: 0.5185 - val_auc: 0.7969 - val_f1_score: 0.5162 - lr: 0.0025\n",
      "Epoch 5/20\n",
      "173/173 [==============================] - 104s 596ms/step - loss: 0.9070 - accuracy: 0.7983 - precision: 0.6009 - recall: 0.5747 - auc: 0.8411 - f1_score: 0.5873 - val_loss: 1.0215 - val_accuracy: 0.7592 - val_precision: 0.5185 - val_recall: 0.5185 - val_auc: 0.8012 - val_f1_score: 0.5277 - lr: 0.0016\n",
      "Epoch 6/20\n",
      "173/173 [==============================] - 105s 607ms/step - loss: 0.9013 - accuracy: 0.7984 - precision: 0.6006 - recall: 0.5777 - auc: 0.8437 - f1_score: 0.5888 - val_loss: 0.8757 - val_accuracy: 0.8179 - val_precision: 0.6439 - val_recall: 0.6075 - val_auc: 0.8568 - val_f1_score: 0.6279 - lr: 0.0010\n",
      "Epoch 7/20\n",
      "173/173 [==============================] - 105s 605ms/step - loss: 0.8863 - accuracy: 0.8015 - precision: 0.6070 - recall: 0.5841 - auc: 0.8496 - f1_score: 0.5951 - val_loss: 1.0401 - val_accuracy: 0.7592 - val_precision: 0.5185 - val_recall: 0.5185 - val_auc: 0.8011 - val_f1_score: 0.5200 - lr: 6.3096e-04\n",
      "Epoch 8/20\n",
      "173/173 [==============================] - 105s 606ms/step - loss: 0.8859 - accuracy: 0.8054 - precision: 0.6143 - recall: 0.5954 - auc: 0.8486 - f1_score: 0.6047 - val_loss: 1.0261 - val_accuracy: 0.7592 - val_precision: 0.5185 - val_recall: 0.5185 - val_auc: 0.8107 - val_f1_score: 0.5162 - lr: 3.9811e-04\n",
      "Epoch 9/20\n",
      "173/173 [==============================] - 102s 587ms/step - loss: 0.8810 - accuracy: 0.8060 - precision: 0.6154 - recall: 0.5971 - auc: 0.8518 - f1_score: 0.6062 - val_loss: 0.8685 - val_accuracy: 0.8063 - val_precision: 0.6190 - val_recall: 0.5858 - val_auc: 0.8564 - val_f1_score: 0.6054 - lr: 2.5119e-04\n",
      "Epoch 10/20\n",
      "173/173 [==============================] - 105s 608ms/step - loss: 0.8806 - accuracy: 0.8056 - precision: 0.6146 - recall: 0.5963 - auc: 0.8507 - f1_score: 0.6051 - val_loss: 0.8788 - val_accuracy: 0.8067 - val_precision: 0.6176 - val_recall: 0.5952 - val_auc: 0.8565 - val_f1_score: 0.6060 - lr: 1.5849e-04\n",
      "Epoch 11/20\n",
      "173/173 [==============================] - 103s 593ms/step - loss: 0.8696 - accuracy: 0.8084 - precision: 0.6206 - recall: 0.6014 - auc: 0.8545 - f1_score: 0.6106 - val_loss: 0.8480 - val_accuracy: 0.8110 - val_precision: 0.6293 - val_recall: 0.5938 - val_auc: 0.8620 - val_f1_score: 0.6065 - lr: 1.0000e-04\n",
      "Epoch 12/20\n",
      "173/173 [==============================] - 105s 606ms/step - loss: 0.8760 - accuracy: 0.8054 - precision: 0.6144 - recall: 0.5947 - auc: 0.8516 - f1_score: 0.6043 - val_loss: 0.9062 - val_accuracy: 0.8009 - val_precision: 0.6048 - val_recall: 0.5873 - val_auc: 0.8476 - val_f1_score: 0.5957 - lr: 6.3096e-05\n",
      "Epoch 13/20\n",
      "173/173 [==============================] - 107s 613ms/step - loss: 0.8701 - accuracy: 0.8095 - precision: 0.6229 - recall: 0.6027 - auc: 0.8550 - f1_score: 0.6123 - val_loss: 0.9159 - val_accuracy: 0.7956 - val_precision: 0.5943 - val_recall: 0.5749 - val_auc: 0.8451 - val_f1_score: 0.5847 - lr: 3.9811e-05\n",
      "Epoch 14/20\n",
      "173/173 [==============================] - 105s 603ms/step - loss: 0.8660 - accuracy: 0.8086 - precision: 0.6205 - recall: 0.6030 - auc: 0.8571 - f1_score: 0.6115 - val_loss: 0.8450 - val_accuracy: 0.8139 - val_precision: 0.6344 - val_recall: 0.6032 - val_auc: 0.8651 - val_f1_score: 0.6138 - lr: 2.5119e-05\n",
      "Epoch 15/20\n",
      "173/173 [==============================] - 103s 593ms/step - loss: 0.8708 - accuracy: 0.8069 - precision: 0.6173 - recall: 0.5983 - auc: 0.8546 - f1_score: 0.6077 - val_loss: 0.8646 - val_accuracy: 0.8096 - val_precision: 0.6240 - val_recall: 0.5996 - val_auc: 0.8602 - val_f1_score: 0.6148 - lr: 1.5849e-05\n",
      "Epoch 16/20\n",
      "173/173 [==============================] - 105s 604ms/step - loss: 0.8709 - accuracy: 0.8083 - precision: 0.6200 - recall: 0.6021 - auc: 0.8543 - f1_score: 0.6109 - val_loss: 0.8674 - val_accuracy: 0.8092 - val_precision: 0.6230 - val_recall: 0.5996 - val_auc: 0.8603 - val_f1_score: 0.6077 - lr: 1.0000e-05\n",
      "Epoch 17/20\n",
      "173/173 [==============================] - 103s 595ms/step - loss: 0.8647 - accuracy: 0.8098 - precision: 0.6232 - recall: 0.6054 - auc: 0.8557 - f1_score: 0.6140 - val_loss: 0.8625 - val_accuracy: 0.8106 - val_precision: 0.6266 - val_recall: 0.6003 - val_auc: 0.8614 - val_f1_score: 0.6161 - lr: 6.3096e-06\n",
      "Epoch 18/20\n",
      "173/173 [==============================] - 102s 586ms/step - loss: 0.8721 - accuracy: 0.8060 - precision: 0.6150 - recall: 0.5992 - auc: 0.8532 - f1_score: 0.6069 - val_loss: 0.8643 - val_accuracy: 0.8101 - val_precision: 0.6250 - val_recall: 0.6010 - val_auc: 0.8610 - val_f1_score: 0.6203 - lr: 3.9811e-06\n",
      "Epoch 19/20\n",
      "173/173 [==============================] - 102s 589ms/step - loss: 0.8761 - accuracy: 0.8055 - precision: 0.6148 - recall: 0.5949 - auc: 0.8522 - f1_score: 0.6046 - val_loss: 0.8627 - val_accuracy: 0.8101 - val_precision: 0.6254 - val_recall: 0.5996 - val_auc: 0.8614 - val_f1_score: 0.6157 - lr: 2.5119e-06\n",
      "Epoch 20/20\n",
      "173/173 [==============================] - 105s 604ms/step - loss: 0.8700 - accuracy: 0.8063 - precision: 0.6161 - recall: 0.5976 - auc: 0.8537 - f1_score: 0.6065 - val_loss: 0.8626 - val_accuracy: 0.8103 - val_precision: 0.6255 - val_recall: 0.6010 - val_auc: 0.8612 - val_f1_score: 0.6168 - lr: 1.5849e-06\n"
     ]
    }
   ],
   "source": [
    "history=model.fit(train_dataset,\n",
    "                        validation_data=valid_dataset,\n",
    "                        epochs = 20,\n",
    "                        verbose = 1,\n",
    "                         callbacks=lr_scheduler)"
   ]
  },
  {
   "cell_type": "code",
   "execution_count": null,
   "metadata": {
    "colab": {
     "base_uri": "https://localhost:8080/"
    },
    "id": "lDPmhC_B0Gj6",
    "outputId": "43acd2f1-8114-4589-c4e2-a97406a28bed"
   },
   "outputs": [
    {
     "name": "stdout",
     "output_type": "stream",
     "text": [
      "40/40 [==============================] - 704s 18s/step - loss: 0.9424 - accuracy: 0.7684 - precision: 0.5380 - recall: 0.5207 - auc: 0.8335 - f1_score: 0.5291\n"
     ]
    }
   ],
   "source": [
    "scores = model.evaluate(test_dataset)"
   ]
  },
  {
   "cell_type": "code",
   "execution_count": null,
   "metadata": {
    "colab": {
     "base_uri": "https://localhost:8080/"
    },
    "id": "QiQCOx7N0Gj7",
    "outputId": "add3a2f5-fa78-4561-df14-f097981b0d64"
   },
   "outputs": [
    {
     "name": "stdout",
     "output_type": "stream",
     "text": [
      "Accuracy =  0.7683737277984619\n",
      "Precision =  0.5379644632339478\n",
      "Recall =  0.5207192897796631\n",
      "AUC =  0.8335143327713013\n",
      "F1_score =  0.5290946364402771\n"
     ]
    }
   ],
   "source": [
    "print(\"Accuracy = \", scores[1])\n",
    "print(\"Precision = \", scores[2])\n",
    "print(\"Recall = \", scores[3])\n",
    "print(\"AUC = \", scores[4])\n",
    "print(\"F1_score = \", scores[5])"
   ]
  }
 ],
 "metadata": {
  "accelerator": "GPU",
  "colab": {
   "provenance": []
  },
  "gpuClass": "standard",
  "kernelspec": {
   "display_name": "Python 3 (ipykernel)",
   "language": "python",
   "name": "python3"
  },
  "language_info": {
   "codemirror_mode": {
    "name": "ipython",
    "version": 3
   },
   "file_extension": ".py",
   "mimetype": "text/x-python",
   "name": "python",
   "nbconvert_exporter": "python",
   "pygments_lexer": "ipython3",
   "version": "3.9.12"
  }
 },
 "nbformat": 4,
 "nbformat_minor": 1
}
